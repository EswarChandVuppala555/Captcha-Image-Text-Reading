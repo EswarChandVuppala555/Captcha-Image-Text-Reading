{
 "cells": [
  {
   "cell_type": "markdown",
   "metadata": {
    "id": "VCb7Sd5AIGQO"
   },
   "source": [
    "# Catcha Text Reading:"
   ]
  },
  {
   "cell_type": "markdown",
   "metadata": {
    "id": "58adb757"
   },
   "source": [
    "- <font size = '4'> There is a dataset of many captcha images where we need to **read** each captha image and **predict** the text in each one. \n",
    "    - The **actual text** is also given which is the **output** for the data set.\n",
    "    - This training data set should be used to train the model."
   ]
  },
  {
   "cell_type": "markdown",
   "metadata": {
    "id": "6e4e405b"
   },
   "source": [
    "- <font size = '4'> But before that we need to **extract the text** from each \n",
    "captcha image using **boundary boxes** segmentation"
   ]
  },
  {
   "cell_type": "code",
   "execution_count": 1,
   "metadata": {
    "colab": {
     "base_uri": "https://localhost:8080/"
    },
    "executionInfo": {
     "elapsed": 31271,
     "status": "ok",
     "timestamp": 1648614214443,
     "user": {
      "displayName": "ESWAR CHAND VUPPALA",
      "userId": "12573240152193183617"
     },
     "user_tz": -330
    },
    "id": "ZA4m1unsVBQh",
    "outputId": "6de7eab1-f301-4855-aff1-c85f0f73cd25"
   },
   "outputs": [
    {
     "ename": "ModuleNotFoundError",
     "evalue": "No module named 'google.colab'",
     "output_type": "error",
     "traceback": [
      "\u001b[1;31m---------------------------------------------------------------------------\u001b[0m",
      "\u001b[1;31mModuleNotFoundError\u001b[0m                       Traceback (most recent call last)",
      "\u001b[1;32m~\\AppData\\Local\\Temp/ipykernel_14160/1408506528.py\u001b[0m in \u001b[0;36m<module>\u001b[1;34m\u001b[0m\n\u001b[1;32m----> 1\u001b[1;33m \u001b[1;32mfrom\u001b[0m \u001b[0mgoogle\u001b[0m\u001b[1;33m.\u001b[0m\u001b[0mcolab\u001b[0m \u001b[1;32mimport\u001b[0m \u001b[0mdrive\u001b[0m\u001b[1;33m\u001b[0m\u001b[1;33m\u001b[0m\u001b[0m\n\u001b[0m\u001b[0;32m      2\u001b[0m \u001b[0mdrive\u001b[0m\u001b[1;33m.\u001b[0m\u001b[0mmount\u001b[0m\u001b[1;33m(\u001b[0m\u001b[1;34m'/content/drive'\u001b[0m\u001b[1;33m)\u001b[0m\u001b[1;33m\u001b[0m\u001b[1;33m\u001b[0m\u001b[0m\n",
      "\u001b[1;31mModuleNotFoundError\u001b[0m: No module named 'google.colab'"
     ]
    }
   ],
   "source": [
    "from google.colab import drive\n",
    "drive.mount('/content/drive')"
   ]
  },
  {
   "cell_type": "code",
   "execution_count": null,
   "metadata": {
    "colab": {
     "base_uri": "https://localhost:8080/",
     "height": 155
    },
    "executionInfo": {
     "elapsed": 1707,
     "status": "ok",
     "timestamp": 1648614216133,
     "user": {
      "displayName": "ESWAR CHAND VUPPALA",
      "userId": "12573240152193183617"
     },
     "user_tz": -330
    },
    "id": "eZn_mkjoVTEy",
    "outputId": "042f8fec-167f-456b-f053-5f8cb8ead9d4"
   },
   "outputs": [],
   "source": [
    "from PIL import Image\n",
    "import matplotlib.pyplot as plt\n",
    "import cv2\n",
    "im = cv2.imread(\"/content/drive/MyDrive/Captcha Text Reading/captcha_18.png\")\n",
    "plt.imshow(im)\n",
    "plt.show()"
   ]
  },
  {
   "cell_type": "markdown",
   "metadata": {
    "id": "8dadf567"
   },
   "source": [
    "- <font size = '4'> This is the sample image of one captcha code in our data set."
   ]
  },
  {
   "cell_type": "code",
   "execution_count": null,
   "metadata": {
    "colab": {
     "base_uri": "https://localhost:8080/",
     "height": 67
    },
    "executionInfo": {
     "elapsed": 15,
     "status": "ok",
     "timestamp": 1648614216134,
     "user": {
      "displayName": "ESWAR CHAND VUPPALA",
      "userId": "12573240152193183617"
     },
     "user_tz": -330
    },
    "id": "BNpeIvU4VlUp",
    "outputId": "20f87ed6-059c-485d-fbef-3d8b1d9e27a3"
   },
   "outputs": [],
   "source": [
    "from google.colab.patches import cv2_imshow\n",
    "im_1 = cv2.imread(\"/content/drive/MyDrive/Captcha Text Reading/captcha_18.png\")\n",
    "cv2_imshow(im_1)"
   ]
  },
  {
   "cell_type": "code",
   "execution_count": null,
   "metadata": {
    "executionInfo": {
     "elapsed": 15,
     "status": "ok",
     "timestamp": 1648614216135,
     "user": {
      "displayName": "ESWAR CHAND VUPPALA",
      "userId": "12573240152193183617"
     },
     "user_tz": -330
    },
    "id": "w_oHecIeLDmU"
   },
   "outputs": [],
   "source": [
    "gray = cv2.cvtColor(im_1, cv2.COLOR_BGR2GRAY)"
   ]
  },
  {
   "cell_type": "code",
   "execution_count": null,
   "metadata": {
    "colab": {
     "base_uri": "https://localhost:8080/"
    },
    "executionInfo": {
     "elapsed": 16,
     "status": "ok",
     "timestamp": 1648614216136,
     "user": {
      "displayName": "ESWAR CHAND VUPPALA",
      "userId": "12573240152193183617"
     },
     "user_tz": -330
    },
    "id": "yD0rjgHqpY6H",
    "outputId": "6c03951a-b001-46a1-cdbd-435fcb39ddd0"
   },
   "outputs": [],
   "source": [
    "gray"
   ]
  },
  {
   "cell_type": "code",
   "execution_count": null,
   "metadata": {
    "colab": {
     "base_uri": "https://localhost:8080/",
     "height": 67
    },
    "executionInfo": {
     "elapsed": 11,
     "status": "ok",
     "timestamp": 1648614216137,
     "user": {
      "displayName": "ESWAR CHAND VUPPALA",
      "userId": "12573240152193183617"
     },
     "user_tz": -330
    },
    "id": "d1yYLqYimMjQ",
    "outputId": "11b3e808-daab-49ac-a2ae-b4e22ea0d0fc"
   },
   "outputs": [],
   "source": [
    "cv2_imshow(gray)"
   ]
  },
  {
   "cell_type": "markdown",
   "metadata": {
    "id": "gCHiwS66QRpM"
   },
   "source": [
    "- <font size = '4'> The colored image is been converted into gray scale image."
   ]
  },
  {
   "cell_type": "code",
   "execution_count": null,
   "metadata": {
    "executionInfo": {
     "elapsed": 39,
     "status": "ok",
     "timestamp": 1648614217070,
     "user": {
      "displayName": "ESWAR CHAND VUPPALA",
      "userId": "12573240152193183617"
     },
     "user_tz": -330
    },
    "id": "naYNhi6fLDiw"
   },
   "outputs": [],
   "source": [
    "blur = cv2.GaussianBlur(gray, (7,7), 0)"
   ]
  },
  {
   "cell_type": "code",
   "execution_count": null,
   "metadata": {
    "colab": {
     "base_uri": "https://localhost:8080/",
     "height": 67
    },
    "executionInfo": {
     "elapsed": 38,
     "status": "ok",
     "timestamp": 1648614217070,
     "user": {
      "displayName": "ESWAR CHAND VUPPALA",
      "userId": "12573240152193183617"
     },
     "user_tz": -330
    },
    "id": "FO4t71y_LDf6",
    "outputId": "5a03ebe7-fa1a-4cc3-e6dc-25d43a9b4690"
   },
   "outputs": [],
   "source": [
    "cv2_imshow(blur)"
   ]
  },
  {
   "cell_type": "code",
   "execution_count": null,
   "metadata": {
    "executionInfo": {
     "elapsed": 37,
     "status": "ok",
     "timestamp": 1648614217071,
     "user": {
      "displayName": "ESWAR CHAND VUPPALA",
      "userId": "12573240152193183617"
     },
     "user_tz": -330
    },
    "id": "WuYv6zrsLDdV"
   },
   "outputs": [],
   "source": [
    "thresh = cv2.threshold(gray, 0, 255, cv2.THRESH_BINARY_INV + cv2.THRESH_OTSU)[1]"
   ]
  },
  {
   "cell_type": "code",
   "execution_count": null,
   "metadata": {
    "colab": {
     "base_uri": "https://localhost:8080/",
     "height": 67
    },
    "executionInfo": {
     "elapsed": 37,
     "status": "ok",
     "timestamp": 1648614217071,
     "user": {
      "displayName": "ESWAR CHAND VUPPALA",
      "userId": "12573240152193183617"
     },
     "user_tz": -330
    },
    "id": "I8usTxpWLDac",
    "outputId": "d3720a59-1b1e-40bd-c23c-b7f635d6b868"
   },
   "outputs": [],
   "source": [
    "cv2_imshow(thresh)"
   ]
  },
  {
   "cell_type": "markdown",
   "metadata": {
    "id": "5SdrZB7SOm3n"
   },
   "source": [
    "- <font size = '4'> Done doing the threshold for the gray scale image\n",
    "- <font size = '4'> Now need to find the **contours** for this thresold image."
   ]
  },
  {
   "cell_type": "code",
   "execution_count": null,
   "metadata": {
    "executionInfo": {
     "elapsed": 36,
     "status": "ok",
     "timestamp": 1648614217071,
     "user": {
      "displayName": "ESWAR CHAND VUPPALA",
      "userId": "12573240152193183617"
     },
     "user_tz": -330
    },
    "id": "3zIgNb7gH14_"
   },
   "outputs": [],
   "source": [
    "cnts = cv2.findContours(thresh, cv2.RETR_EXTERNAL,cv2.CHAIN_APPROX_SIMPLE)"
   ]
  },
  {
   "cell_type": "code",
   "execution_count": null,
   "metadata": {
    "executionInfo": {
     "elapsed": 37,
     "status": "ok",
     "timestamp": 1648614217072,
     "user": {
      "displayName": "ESWAR CHAND VUPPALA",
      "userId": "12573240152193183617"
     },
     "user_tz": -330
    },
    "id": "ihF9sGItIXO3"
   },
   "outputs": [],
   "source": [
    "cnts = cnts[0] if len(cnts) == 2 else cnts[1]"
   ]
  },
  {
   "cell_type": "code",
   "execution_count": null,
   "metadata": {
    "executionInfo": {
     "elapsed": 38,
     "status": "ok",
     "timestamp": 1648614217073,
     "user": {
      "displayName": "ESWAR CHAND VUPPALA",
      "userId": "12573240152193183617"
     },
     "user_tz": -330
    },
    "id": "aFmVWKCGIoHn"
   },
   "outputs": [],
   "source": [
    "cnts = sorted(cnts, key = lambda x: cv2.boundingRect(x)[0])"
   ]
  },
  {
   "cell_type": "code",
   "execution_count": null,
   "metadata": {
    "colab": {
     "base_uri": "https://localhost:8080/",
     "height": 106
    },
    "executionInfo": {
     "elapsed": 37,
     "status": "ok",
     "timestamp": 1648614217073,
     "user": {
      "displayName": "ESWAR CHAND VUPPALA",
      "userId": "12573240152193183617"
     },
     "user_tz": -330
    },
    "id": "zjBwHy_dI3gb",
    "outputId": "9a43f552-1628-40c4-dc96-cde2c404986d"
   },
   "outputs": [],
   "source": [
    "temp = 0\n",
    "for c in cnts:\n",
    "  x,y,w,h = cv2.boundingRect(c)\n",
    "  cv2.rectangle(gray, (x,y), (x+w,y+h), (0,255,0), 1)\n",
    "  temp = temp + 1\n",
    "  if temp >= 5 and temp <= 9:\n",
    "    letter = gray[y:y+h,x:x+w]\n",
    "    cv2_imshow(letter)"
   ]
  },
  {
   "cell_type": "code",
   "execution_count": null,
   "metadata": {
    "colab": {
     "base_uri": "https://localhost:8080/",
     "height": 67
    },
    "executionInfo": {
     "elapsed": 37,
     "status": "ok",
     "timestamp": 1648614217074,
     "user": {
      "displayName": "ESWAR CHAND VUPPALA",
      "userId": "12573240152193183617"
     },
     "user_tz": -330
    },
    "id": "CAcP0wlqNJIH",
    "outputId": "4d48b26b-8e0e-4ab6-db5d-4ff2fa37ef37"
   },
   "outputs": [],
   "source": [
    "cv2_imshow(gray)"
   ]
  },
  {
   "cell_type": "markdown",
   "metadata": {
    "id": "syZC89uGjBY7"
   },
   "source": [
    "- <font size = '4'> Now lets do this bounding boxes for all captcha images at once and see which approach is better.\n"
   ]
  },
  {
   "cell_type": "code",
   "execution_count": null,
   "metadata": {
    "colab": {
     "base_uri": "https://localhost:8080/"
    },
    "executionInfo": {
     "elapsed": 36,
     "status": "ok",
     "timestamp": 1648614217074,
     "user": {
      "displayName": "ESWAR CHAND VUPPALA",
      "userId": "12573240152193183617"
     },
     "user_tz": -330
    },
    "id": "IfpJ5cPVWGfI",
    "outputId": "b64ddd55-06b1-4e7f-ff5f-98e01909d038"
   },
   "outputs": [],
   "source": [
    "import os\n",
    "path = \"/content/drive/MyDrive/Captcha Text Reading\"\n",
    "captcha_files = os.listdir(path)\n",
    "captcha_files"
   ]
  },
  {
   "cell_type": "code",
   "execution_count": null,
   "metadata": {
    "colab": {
     "base_uri": "https://localhost:8080/"
    },
    "executionInfo": {
     "elapsed": 32,
     "status": "ok",
     "timestamp": 1648614217074,
     "user": {
      "displayName": "ESWAR CHAND VUPPALA",
      "userId": "12573240152193183617"
     },
     "user_tz": -330
    },
    "id": "AIwqsmDXWKRW",
    "outputId": "7f4be011-0099-4ac2-d24b-bb67eca77503"
   },
   "outputs": [],
   "source": [
    "from pathlib import Path\n",
    "path_names_tech = list(Path(path).glob('*.png'))\n",
    "path_names_tech"
   ]
  },
  {
   "cell_type": "code",
   "execution_count": null,
   "metadata": {
    "colab": {
     "base_uri": "https://localhost:8080/"
    },
    "executionInfo": {
     "elapsed": 28,
     "status": "ok",
     "timestamp": 1648614217075,
     "user": {
      "displayName": "ESWAR CHAND VUPPALA",
      "userId": "12573240152193183617"
     },
     "user_tz": -330
    },
    "id": "05nB2fpw5f4Q",
    "outputId": "11d5677b-9bae-43ae-a978-cbe76beae539"
   },
   "outputs": [],
   "source": [
    "len(path_names_tech)"
   ]
  },
  {
   "cell_type": "code",
   "execution_count": null,
   "metadata": {
    "colab": {
     "base_uri": "https://localhost:8080/"
    },
    "executionInfo": {
     "elapsed": 21,
     "status": "ok",
     "timestamp": 1648614217075,
     "user": {
      "displayName": "ESWAR CHAND VUPPALA",
      "userId": "12573240152193183617"
     },
     "user_tz": -330
    },
    "id": "JtE9n-zHi02F",
    "outputId": "5748229f-ba62-4a5f-e47d-9f66414038b5"
   },
   "outputs": [],
   "source": [
    "len(captcha_files)"
   ]
  },
  {
   "cell_type": "markdown",
   "metadata": {
    "id": "5G08fK5Rac9n"
   },
   "source": [
    "- <font size = '4'>Storing all the path and files in a list for further using."
   ]
  },
  {
   "cell_type": "code",
   "execution_count": null,
   "metadata": {
    "colab": {
     "base_uri": "https://localhost:8080/",
     "height": 1000,
     "output_embedded_package_id": "1PpYpkp9OeOyA_Lt2En290p2T5vykxE-s"
    },
    "executionInfo": {
     "elapsed": 77857,
     "status": "ok",
     "timestamp": 1648614294913,
     "user": {
      "displayName": "ESWAR CHAND VUPPALA",
      "userId": "12573240152193183617"
     },
     "user_tz": -330
    },
    "id": "T--iuxw1swGn",
    "outputId": "2179fc07-922b-49f8-e75d-81b13b9e9820"
   },
   "outputs": [],
   "source": [
    "for i in captcha_files:\n",
    "  im = cv2.imread(\"/content/drive/MyDrive/Captcha Text Reading/\"+i)\n",
    "  plt.imshow(im)\n",
    "  plt.show()"
   ]
  },
  {
   "cell_type": "code",
   "execution_count": null,
   "metadata": {
    "colab": {
     "base_uri": "https://localhost:8080/",
     "height": 1000
    },
    "executionInfo": {
     "elapsed": 11652,
     "status": "ok",
     "timestamp": 1648614306549,
     "user": {
      "displayName": "ESWAR CHAND VUPPALA",
      "userId": "12573240152193183617"
     },
     "user_tz": -330
    },
    "id": "omD7xvSNWddr",
    "outputId": "bf7f8d40-60c3-490f-9b25-2702834a0039"
   },
   "outputs": [],
   "source": [
    "img_boxes = []\n",
    "p =0\n",
    "for i in captcha_files:\n",
    "  p = p+1\n",
    "  im = cv2.imread(\"/content/drive/MyDrive/Captcha Text Reading/\"+i)\n",
    "  gray = cv2.cvtColor(im, cv2.COLOR_BGR2GRAY)\n",
    "  blur = cv2.GaussianBlur(gray, (7,7), 0)\n",
    "  thresh = cv2.threshold(gray, 0, 255, cv2.THRESH_BINARY_INV + cv2.THRESH_OTSU)[1]\n",
    "  cnts = cv2.findContours(thresh, cv2.RETR_EXTERNAL,cv2.CHAIN_APPROX_SIMPLE)\n",
    "  cnts = cnts[0] if len(cnts) == 2 else cnts[1]\n",
    "  cnts = sorted(cnts, key = lambda x: cv2.boundingRect(x)[0])\n",
    "  temp = 0\n",
    "  w_lst = []\n",
    "  for c in cnts:\n",
    "    temp = temp + 1\n",
    "    x,y,w,h = cv2.boundingRect(c)\n",
    "    cv2.rectangle(gray, (x,y), (x+w,y+h), (0,255,0), 1)\n",
    "    if temp >= 5 and temp <= 9:\n",
    "        w_lst.append(w)\n",
    "  print(w_lst)\n",
    "  \n",
    "  cv2_imshow(gray)"
   ]
  },
  {
   "cell_type": "code",
   "execution_count": null,
   "metadata": {
    "colab": {
     "base_uri": "https://localhost:8080/"
    },
    "executionInfo": {
     "elapsed": 47,
     "status": "ok",
     "timestamp": 1648614306550,
     "user": {
      "displayName": "ESWAR CHAND VUPPALA",
      "userId": "12573240152193183617"
     },
     "user_tz": -330
    },
    "id": "r52qRzWdWkNl",
    "outputId": "181f44c3-380d-4d69-9862-914b0700f0e7"
   },
   "outputs": [],
   "source": [
    "print(p)"
   ]
  },
  {
   "cell_type": "markdown",
   "metadata": {
    "id": "_gzg_QlMm1kS"
   },
   "source": [
    "- <font size = '4'> We can see this approach is **better** when compared with the first approach. \n",
    "- So, lets **finalize** this approcach to plot the bounding boxes for each character."
   ]
  },
  {
   "cell_type": "markdown",
   "metadata": {
    "id": "DGBuHeoNnQhQ"
   },
   "source": [
    "- <font size = '4'> But, here the only problem is if 2 or 3 cahacrters touch to each other without any space between them then only one bounding box is been plotted for those 2 or 3 characters mixed."
   ]
  },
  {
   "cell_type": "markdown",
   "metadata": {
    "id": "s-VF1CUWn8l9"
   },
   "source": [
    "- <font size = '4'> For this one solution is,"
   ]
  },
  {
   "cell_type": "markdown",
   "metadata": {
    "id": "BIxWOXFZoBCX"
   },
   "source": [
    "##**SOLUTION**\n"
   ]
  },
  {
   "cell_type": "markdown",
   "metadata": {
    "id": "lcC-xkVPoa88"
   },
   "source": [
    "- <font size = '4'> Finding the approx range of length of a single character bounding box and if the bounding boxes of other exceeds this range, that means that the box includes more than 1 character.\n",
    "- So, this box should be split into parts so that the lenght of each box gets into the above range of single character bounding box length."
   ]
  },
  {
   "cell_type": "markdown",
   "metadata": {
    "id": "GZSMxXzyFbbf"
   },
   "source": [
    "- <font size = '4'> First lets try for a single image which is captcha_18"
   ]
  },
  {
   "cell_type": "code",
   "execution_count": null,
   "metadata": {
    "colab": {
     "base_uri": "https://localhost:8080/",
     "height": 67
    },
    "executionInfo": {
     "elapsed": 44,
     "status": "ok",
     "timestamp": 1648614306550,
     "user": {
      "displayName": "ESWAR CHAND VUPPALA",
      "userId": "12573240152193183617"
     },
     "user_tz": -330
    },
    "id": "vHZ4YypUFZYC",
    "outputId": "998cb44b-17dc-4c0a-e8b0-0d44c5bba6fb"
   },
   "outputs": [],
   "source": [
    "im_1 = cv2.imread(\"/content/drive/MyDrive/Captcha Text Reading/captcha_18.png\")\n",
    "cv2_imshow(im_1)"
   ]
  },
  {
   "cell_type": "code",
   "execution_count": null,
   "metadata": {
    "executionInfo": {
     "elapsed": 43,
     "status": "ok",
     "timestamp": 1648614306550,
     "user": {
      "displayName": "ESWAR CHAND VUPPALA",
      "userId": "12573240152193183617"
     },
     "user_tz": -330
    },
    "id": "59hImqTBFZYC"
   },
   "outputs": [],
   "source": [
    "gray = cv2.cvtColor(im_1, cv2.COLOR_BGR2GRAY)"
   ]
  },
  {
   "cell_type": "markdown",
   "metadata": {
    "id": "iWFtRKHPFZYD"
   },
   "source": [
    "- <font size = '4'> The colored image is been converted into gray scale image."
   ]
  },
  {
   "cell_type": "code",
   "execution_count": null,
   "metadata": {
    "executionInfo": {
     "elapsed": 43,
     "status": "ok",
     "timestamp": 1648614306551,
     "user": {
      "displayName": "ESWAR CHAND VUPPALA",
      "userId": "12573240152193183617"
     },
     "user_tz": -330
    },
    "id": "T9yPTypEFZYD"
   },
   "outputs": [],
   "source": [
    "blur = cv2.GaussianBlur(gray, (7,7), 0)"
   ]
  },
  {
   "cell_type": "code",
   "execution_count": null,
   "metadata": {
    "colab": {
     "base_uri": "https://localhost:8080/",
     "height": 67
    },
    "executionInfo": {
     "elapsed": 43,
     "status": "ok",
     "timestamp": 1648614306551,
     "user": {
      "displayName": "ESWAR CHAND VUPPALA",
      "userId": "12573240152193183617"
     },
     "user_tz": -330
    },
    "id": "X_VsXq1LFZYD",
    "outputId": "48c0faff-d17a-42c6-982b-c5c8b985ca4c"
   },
   "outputs": [],
   "source": [
    "cv2_imshow(blur)"
   ]
  },
  {
   "cell_type": "code",
   "execution_count": null,
   "metadata": {
    "executionInfo": {
     "elapsed": 43,
     "status": "ok",
     "timestamp": 1648614306552,
     "user": {
      "displayName": "ESWAR CHAND VUPPALA",
      "userId": "12573240152193183617"
     },
     "user_tz": -330
    },
    "id": "YFStsfcPFZYD"
   },
   "outputs": [],
   "source": [
    "thresh = cv2.threshold(gray, 0, 255, cv2.THRESH_BINARY_INV + cv2.THRESH_OTSU)[1]"
   ]
  },
  {
   "cell_type": "code",
   "execution_count": null,
   "metadata": {
    "colab": {
     "base_uri": "https://localhost:8080/",
     "height": 67
    },
    "executionInfo": {
     "elapsed": 43,
     "status": "ok",
     "timestamp": 1648614306552,
     "user": {
      "displayName": "ESWAR CHAND VUPPALA",
      "userId": "12573240152193183617"
     },
     "user_tz": -330
    },
    "id": "ecX4lM2zFZYD",
    "outputId": "3e6cde65-494b-48c2-e523-14605c8b9590"
   },
   "outputs": [],
   "source": [
    "cv2_imshow(thresh)"
   ]
  },
  {
   "cell_type": "markdown",
   "metadata": {
    "id": "GkHXr51uFZYD"
   },
   "source": [
    "- <font size = '4'> Done doing the threshold for the gray scale image\n",
    "- <font size = '4'> Now need to find the **contours** for this thresold image."
   ]
  },
  {
   "cell_type": "code",
   "execution_count": null,
   "metadata": {
    "executionInfo": {
     "elapsed": 42,
     "status": "ok",
     "timestamp": 1648614306552,
     "user": {
      "displayName": "ESWAR CHAND VUPPALA",
      "userId": "12573240152193183617"
     },
     "user_tz": -330
    },
    "id": "hnRhJQ8IFZYD"
   },
   "outputs": [],
   "source": [
    "cnts = cv2.findContours(thresh, cv2.RETR_EXTERNAL,cv2.CHAIN_APPROX_SIMPLE)"
   ]
  },
  {
   "cell_type": "code",
   "execution_count": null,
   "metadata": {
    "executionInfo": {
     "elapsed": 42,
     "status": "ok",
     "timestamp": 1648614306552,
     "user": {
      "displayName": "ESWAR CHAND VUPPALA",
      "userId": "12573240152193183617"
     },
     "user_tz": -330
    },
    "id": "ZG2Bs1yVFZYE"
   },
   "outputs": [],
   "source": [
    "cnts = cnts[0] if len(cnts) == 2 else cnts[1]"
   ]
  },
  {
   "cell_type": "code",
   "execution_count": null,
   "metadata": {
    "executionInfo": {
     "elapsed": 43,
     "status": "ok",
     "timestamp": 1648614306553,
     "user": {
      "displayName": "ESWAR CHAND VUPPALA",
      "userId": "12573240152193183617"
     },
     "user_tz": -330
    },
    "id": "KQpQ7pGEFZYE"
   },
   "outputs": [],
   "source": [
    "cnts = sorted(cnts, key = lambda x: cv2.boundingRect(x)[0])"
   ]
  },
  {
   "cell_type": "code",
   "execution_count": null,
   "metadata": {
    "colab": {
     "base_uri": "https://localhost:8080/",
     "height": 125
    },
    "executionInfo": {
     "elapsed": 43,
     "status": "ok",
     "timestamp": 1648614306553,
     "user": {
      "displayName": "ESWAR CHAND VUPPALA",
      "userId": "12573240152193183617"
     },
     "user_tz": -330
    },
    "id": "8wbLkgB4FZYE",
    "outputId": "dd2ca35b-8c34-4f58-a9d4-8f3cf926b42e"
   },
   "outputs": [],
   "source": [
    "temp = 0\n",
    "for c in cnts:\n",
    "  temp = temp+1\n",
    "  x,y,w,h = cv2.boundingRect(c)\n",
    "  cv2.rectangle(gray, (x,y), (x+w,y+h), (0,255,0), 1)\n",
    "  #print(w)\n",
    "  if temp >= 5 and temp <= 9:\n",
    "    if w >= 25 and w < 39:\n",
    "      cv2.rectangle(gray, (x,y), (x+int(w/2),y+h), (0,255,0), 1)\n",
    "      cv2.rectangle(gray, (x+int(w/2),y), (x+w,y+h), (0,255,0), 1)\n",
    "      letter = gray[y:y+h,x:x+int(w/2)]\n",
    "      cv2_imshow(letter)\n",
    "      letter = gray[y:y+h,x+int(w/2):x+w]\n",
    "      cv2_imshow(letter)\n",
    "    else:\n",
    "      letter = gray[y:y+h,x:x+w]\n",
    "      cv2_imshow(letter)\n",
    "    "
   ]
  },
  {
   "cell_type": "code",
   "execution_count": null,
   "metadata": {
    "colab": {
     "base_uri": "https://localhost:8080/",
     "height": 67
    },
    "executionInfo": {
     "elapsed": 42,
     "status": "ok",
     "timestamp": 1648614306553,
     "user": {
      "displayName": "ESWAR CHAND VUPPALA",
      "userId": "12573240152193183617"
     },
     "user_tz": -330
    },
    "id": "ogeCKSCuFZYE",
    "outputId": "57856795-244e-4520-c239-10416bf75b1d"
   },
   "outputs": [],
   "source": [
    "cv2_imshow(gray)"
   ]
  },
  {
   "cell_type": "markdown",
   "metadata": {
    "id": "vX3JIPpUFZYE"
   },
   "source": [
    "- <font size = '4'> Successfully spilted the 2 character boundary box into seperate boxes"
   ]
  },
  {
   "cell_type": "markdown",
   "metadata": {
    "id": "nD1eVicfJCKL"
   },
   "source": [
    "- <font size = '4'> Lets also check for the case if  3 charcters are together having one boundary box."
   ]
  },
  {
   "cell_type": "code",
   "execution_count": null,
   "metadata": {
    "colab": {
     "base_uri": "https://localhost:8080/",
     "height": 67
    },
    "executionInfo": {
     "elapsed": 42,
     "status": "ok",
     "timestamp": 1648614306554,
     "user": {
      "displayName": "ESWAR CHAND VUPPALA",
      "userId": "12573240152193183617"
     },
     "user_tz": -330
    },
    "id": "HCcxsDoYGT1K",
    "outputId": "814d476e-e208-4038-8ccb-367d66d61453"
   },
   "outputs": [],
   "source": [
    "im_1 = cv2.imread(\"/content/drive/MyDrive/Captcha Text Reading/captcha_14.png\")\n",
    "cv2_imshow(im_1)"
   ]
  },
  {
   "cell_type": "code",
   "execution_count": null,
   "metadata": {
    "executionInfo": {
     "elapsed": 41,
     "status": "ok",
     "timestamp": 1648614306554,
     "user": {
      "displayName": "ESWAR CHAND VUPPALA",
      "userId": "12573240152193183617"
     },
     "user_tz": -330
    },
    "id": "EGJEiK30GT1Q"
   },
   "outputs": [],
   "source": [
    "gray = cv2.cvtColor(im_1, cv2.COLOR_BGR2GRAY)"
   ]
  },
  {
   "cell_type": "markdown",
   "metadata": {
    "id": "k8voN_ObGT1Q"
   },
   "source": [
    "- <font size = '4'> The colored image is been converted into gray scale image."
   ]
  },
  {
   "cell_type": "code",
   "execution_count": null,
   "metadata": {
    "colab": {
     "base_uri": "https://localhost:8080/",
     "height": 67
    },
    "executionInfo": {
     "elapsed": 41,
     "status": "ok",
     "timestamp": 1648614306554,
     "user": {
      "displayName": "ESWAR CHAND VUPPALA",
      "userId": "12573240152193183617"
     },
     "user_tz": -330
    },
    "id": "vmp6uyPXslBG",
    "outputId": "0314c6dd-36df-4964-9300-94048eee47d9"
   },
   "outputs": [],
   "source": [
    "cv2_imshow(gray)"
   ]
  },
  {
   "cell_type": "code",
   "execution_count": null,
   "metadata": {
    "executionInfo": {
     "elapsed": 41,
     "status": "ok",
     "timestamp": 1648614306555,
     "user": {
      "displayName": "ESWAR CHAND VUPPALA",
      "userId": "12573240152193183617"
     },
     "user_tz": -330
    },
    "id": "-jhEd7NTGT1Q"
   },
   "outputs": [],
   "source": [
    "blur = cv2.GaussianBlur(gray, (7,7), 0)"
   ]
  },
  {
   "cell_type": "code",
   "execution_count": null,
   "metadata": {
    "colab": {
     "base_uri": "https://localhost:8080/",
     "height": 67
    },
    "executionInfo": {
     "elapsed": 41,
     "status": "ok",
     "timestamp": 1648614306555,
     "user": {
      "displayName": "ESWAR CHAND VUPPALA",
      "userId": "12573240152193183617"
     },
     "user_tz": -330
    },
    "id": "ilL6xdEjGT1R",
    "outputId": "dd224fd9-65b0-4077-add1-551a90b103aa"
   },
   "outputs": [],
   "source": [
    "cv2_imshow(blur)"
   ]
  },
  {
   "cell_type": "code",
   "execution_count": null,
   "metadata": {
    "executionInfo": {
     "elapsed": 40,
     "status": "ok",
     "timestamp": 1648614306555,
     "user": {
      "displayName": "ESWAR CHAND VUPPALA",
      "userId": "12573240152193183617"
     },
     "user_tz": -330
    },
    "id": "U8x2r5Y_GT1R"
   },
   "outputs": [],
   "source": [
    "thresh = cv2.threshold(gray, 0, 255, cv2.THRESH_BINARY_INV + cv2.THRESH_OTSU)[1]"
   ]
  },
  {
   "cell_type": "code",
   "execution_count": null,
   "metadata": {
    "colab": {
     "base_uri": "https://localhost:8080/",
     "height": 67
    },
    "executionInfo": {
     "elapsed": 41,
     "status": "ok",
     "timestamp": 1648614306556,
     "user": {
      "displayName": "ESWAR CHAND VUPPALA",
      "userId": "12573240152193183617"
     },
     "user_tz": -330
    },
    "id": "LG4_J2MNGT1R",
    "outputId": "677e9ddb-b6d1-48ae-9d08-987d2709c488"
   },
   "outputs": [],
   "source": [
    "cv2_imshow(thresh)"
   ]
  },
  {
   "cell_type": "markdown",
   "metadata": {
    "id": "tL9hgdf1GT1R"
   },
   "source": [
    "- <font size = '4'> Done doing the threshold for the gray scale image\n",
    "- <font size = '4'> Now need to find the **contours** for this thresold image."
   ]
  },
  {
   "cell_type": "code",
   "execution_count": null,
   "metadata": {
    "executionInfo": {
     "elapsed": 40,
     "status": "ok",
     "timestamp": 1648614306556,
     "user": {
      "displayName": "ESWAR CHAND VUPPALA",
      "userId": "12573240152193183617"
     },
     "user_tz": -330
    },
    "id": "K29_UVl5GT1R"
   },
   "outputs": [],
   "source": [
    "cnts = cv2.findContours(thresh, cv2.RETR_EXTERNAL,cv2.CHAIN_APPROX_SIMPLE)"
   ]
  },
  {
   "cell_type": "code",
   "execution_count": null,
   "metadata": {
    "executionInfo": {
     "elapsed": 40,
     "status": "ok",
     "timestamp": 1648614306556,
     "user": {
      "displayName": "ESWAR CHAND VUPPALA",
      "userId": "12573240152193183617"
     },
     "user_tz": -330
    },
    "id": "LX9ZxTxzGT1R"
   },
   "outputs": [],
   "source": [
    "cnts = cnts[0] if len(cnts) == 2 else cnts[1]"
   ]
  },
  {
   "cell_type": "code",
   "execution_count": null,
   "metadata": {
    "executionInfo": {
     "elapsed": 39,
     "status": "ok",
     "timestamp": 1648614306556,
     "user": {
      "displayName": "ESWAR CHAND VUPPALA",
      "userId": "12573240152193183617"
     },
     "user_tz": -330
    },
    "id": "5rWyirrwGT1R"
   },
   "outputs": [],
   "source": [
    "cnts = sorted(cnts, key = lambda x: cv2.boundingRect(x)[0])"
   ]
  },
  {
   "cell_type": "code",
   "execution_count": null,
   "metadata": {
    "colab": {
     "base_uri": "https://localhost:8080/"
    },
    "executionInfo": {
     "elapsed": 40,
     "status": "ok",
     "timestamp": 1648614306557,
     "user": {
      "displayName": "ESWAR CHAND VUPPALA",
      "userId": "12573240152193183617"
     },
     "user_tz": -330
    },
    "id": "QUYJnbevGT1R",
    "outputId": "6fcba965-8b3d-4dad-ab81-352945506ca6"
   },
   "outputs": [],
   "source": [
    "for c in cnts:\n",
    "  x,y,w,h = cv2.boundingRect(c)\n",
    "  cv2.rectangle(gray, (x,y), (x+w,y+h), (0,255,0), 1)\n",
    "  print(w)"
   ]
  },
  {
   "cell_type": "code",
   "execution_count": null,
   "metadata": {
    "colab": {
     "base_uri": "https://localhost:8080/",
     "height": 67
    },
    "executionInfo": {
     "elapsed": 36,
     "status": "ok",
     "timestamp": 1648614306557,
     "user": {
      "displayName": "ESWAR CHAND VUPPALA",
      "userId": "12573240152193183617"
     },
     "user_tz": -330
    },
    "id": "ecwvqPBxGT1R",
    "outputId": "08162b23-81f1-4bc3-b520-28101c0d85fe"
   },
   "outputs": [],
   "source": [
    "cv2_imshow(gray)"
   ]
  },
  {
   "cell_type": "markdown",
   "metadata": {
    "id": "gE5VlyzjGT1S"
   },
   "source": [
    "- <font size = '4'>Here **W,Q,2** are having one boundary box. Lets split this box into 3 boxes.\n"
   ]
  },
  {
   "cell_type": "code",
   "execution_count": null,
   "metadata": {
    "executionInfo": {
     "elapsed": 36,
     "status": "ok",
     "timestamp": 1648614306557,
     "user": {
      "displayName": "ESWAR CHAND VUPPALA",
      "userId": "12573240152193183617"
     },
     "user_tz": -330
    },
    "id": "krJbocwEFETT"
   },
   "outputs": [],
   "source": [
    "temp = 0\n",
    "for c in cnts:\n",
    "  temp = temp+1\n",
    "  x,y,w,h = cv2.boundingRect(c)\n",
    "  cv2.rectangle(gray, (x,y), (x+w,y+h), (0,255,0), 1)\n",
    "  #print(w)\n",
    "  if temp >= 5 and temp <= 9:\n",
    "    if w >= 39:\n",
    "      cv2.rectangle(gray, (x,y), (x+round(w/3),y+h), (0,255,0), 1)\n",
    "      cv2.rectangle(gray, (x+round(w/3),y), (x+round((2*w)/3),y+h), (0,255,0), 1)\n",
    "      cv2.rectangle(gray, (x+round((2*w)/3),y), (x+w,y+h), (0,255,0), 1)\n",
    "      \n",
    "    "
   ]
  },
  {
   "cell_type": "code",
   "execution_count": null,
   "metadata": {
    "colab": {
     "base_uri": "https://localhost:8080/",
     "height": 67
    },
    "executionInfo": {
     "elapsed": 36,
     "status": "ok",
     "timestamp": 1648614306558,
     "user": {
      "displayName": "ESWAR CHAND VUPPALA",
      "userId": "12573240152193183617"
     },
     "user_tz": -330
    },
    "id": "rcqLMK7GFEQr",
    "outputId": "13fdc3cc-e208-4117-a893-7a8c671ef0be"
   },
   "outputs": [],
   "source": [
    "cv2_imshow(gray)"
   ]
  },
  {
   "cell_type": "markdown",
   "metadata": {
    "id": "cCKYIJd5Jkfs"
   },
   "source": [
    "- <font size = '4'> Successfully converted the big box into 3 boxes."
   ]
  },
  {
   "cell_type": "markdown",
   "metadata": {
    "id": "YC6_ex_vJ4QA"
   },
   "source": [
    "- <font size = '4'> Now lets aply this approach for all the captcha images which are above."
   ]
  },
  {
   "cell_type": "code",
   "execution_count": null,
   "metadata": {
    "colab": {
     "base_uri": "https://localhost:8080/",
     "height": 1000
    },
    "executionInfo": {
     "elapsed": 2711,
     "status": "ok",
     "timestamp": 1648614309233,
     "user": {
      "displayName": "ESWAR CHAND VUPPALA",
      "userId": "12573240152193183617"
     },
     "user_tz": -330
    },
    "id": "SevgmGBsFELh",
    "outputId": "3e09eabc-dc3d-412e-9b89-2f3c1e543e50"
   },
   "outputs": [],
   "source": [
    "img_boxes = []\n",
    "for i in captcha_files:\n",
    "  im = cv2.imread(\"/content/drive/MyDrive/Captcha Text Reading/\"+i)\n",
    "  gray = cv2.cvtColor(im, cv2.COLOR_BGR2GRAY)\n",
    "  blur = cv2.GaussianBlur(gray, (7,7), 0)\n",
    "  thresh = cv2.threshold(gray, 0, 255, cv2.THRESH_BINARY_INV + cv2.THRESH_OTSU)[1]\n",
    "  cnts = cv2.findContours(thresh, cv2.RETR_EXTERNAL,cv2.CHAIN_APPROX_SIMPLE)\n",
    "  cnts = cnts[0] if len(cnts) == 2 else cnts[1]\n",
    "  cnts = sorted(cnts, key = lambda x: cv2.boundingRect(x)[0])\n",
    "  temp = 0\n",
    "  for c in cnts:\n",
    "    temp = temp+1\n",
    "    x,y,w,h = cv2.boundingRect(c)\n",
    "    cv2.rectangle(gray, (x,y), (x+w,y+h), (0,255,0), 1)\n",
    "    #print(w)\n",
    "    if temp >= 5 and temp <= 9:\n",
    "      if w >= 25 and w < 39:\n",
    "        cv2.rectangle(gray, (x,y), (x+int(w/2),y+h), (0,255,0), 1)\n",
    "        cv2.rectangle(gray, (x+int(w/2),y), (x+w,y+h), (0,255,0), 1)\n",
    "      elif w >= 39:\n",
    "        cv2.rectangle(gray, (x,y), (x+round(w/3),y+h), (0,255,0), 1)\n",
    "        cv2.rectangle(gray, (x+round(w/3),y), (x+round((2*w)/3),y+h), (0,255,0), 1)\n",
    "        cv2.rectangle(gray, (x+round((2*w)/3),y), (x+w,y+h), (0,255,0), 1)\n",
    "      \n",
    "  cv2_imshow(gray)"
   ]
  },
  {
   "cell_type": "markdown",
   "metadata": {
    "id": "ww-N81elksvW"
   },
   "source": [
    "##**TRAINING**"
   ]
  },
  {
   "cell_type": "markdown",
   "metadata": {
    "id": "SVmZBotPLJW9"
   },
   "source": [
    "- <font size = '4'> Finally these are the best bounding boxes plotting and which can be used to further training."
   ]
  },
  {
   "cell_type": "markdown",
   "metadata": {
    "id": "P57OvrsxkwLl"
   },
   "source": [
    "- <font size = '4'> For training purpose lets take the images that contains single character bounding boxes instead of 2or3 chracters merged boxes for better model traning."
   ]
  },
  {
   "cell_type": "code",
   "execution_count": null,
   "metadata": {
    "colab": {
     "base_uri": "https://localhost:8080/",
     "height": 1000
    },
    "executionInfo": {
     "elapsed": 1367,
     "status": "ok",
     "timestamp": 1648614310587,
     "user": {
      "displayName": "ESWAR CHAND VUPPALA",
      "userId": "12573240152193183617"
     },
     "user_tz": -330
    },
    "id": "W-F3QHYSn5pp",
    "outputId": "2c3c3a50-a001-4c82-93f8-014278931f95"
   },
   "outputs": [],
   "source": [
    "single_char_captcha_files = []\n",
    "p =0\n",
    "for i in captcha_files:\n",
    "  im = cv2.imread(\"/content/drive/MyDrive/Captcha Text Reading/\"+i)\n",
    "  gray = cv2.cvtColor(im, cv2.COLOR_BGR2GRAY)\n",
    "  blur = cv2.GaussianBlur(gray, (7,7), 0)\n",
    "  thresh = cv2.threshold(gray, 0, 255, cv2.THRESH_BINARY_INV + cv2.THRESH_OTSU)[1]\n",
    "  cnts = cv2.findContours(thresh, cv2.RETR_EXTERNAL,cv2.CHAIN_APPROX_SIMPLE)\n",
    "  cnts = cnts[0] if len(cnts) == 2 else cnts[1]\n",
    "  cnts = sorted(cnts, key = lambda x: cv2.boundingRect(x)[0])\n",
    "  temp = 0\n",
    "  w_lst = []\n",
    "  for c in cnts:\n",
    "    temp = temp + 1\n",
    "    x,y,w,h = cv2.boundingRect(c)\n",
    "    cv2.rectangle(gray, (x,y), (x+w,y+h), (0,255,0), 1)\n",
    "    if temp >= 5 and temp <= 9:\n",
    "        w_lst.append(w)\n",
    "  for j in w_lst:\n",
    "    if j>=25:\n",
    "      break\n",
    "  else:\n",
    "    p =p + 1\n",
    "    single_char_captcha_files.append(i)\n",
    "    cv2_imshow(gray)"
   ]
  },
  {
   "cell_type": "code",
   "execution_count": null,
   "metadata": {
    "colab": {
     "base_uri": "https://localhost:8080/"
    },
    "executionInfo": {
     "elapsed": 29,
     "status": "ok",
     "timestamp": 1648614310588,
     "user": {
      "displayName": "ESWAR CHAND VUPPALA",
      "userId": "12573240152193183617"
     },
     "user_tz": -330
    },
    "id": "L3qqE7woms6-",
    "outputId": "4259809e-20d9-4f90-fb93-402217fde4b9"
   },
   "outputs": [],
   "source": [
    "print(p)"
   ]
  },
  {
   "cell_type": "markdown",
   "metadata": {
    "id": "o2LtDprZodh3"
   },
   "source": [
    "- <font size = '4'> These 145 captcha images are the ones which are having bounding boxes only for 1 character."
   ]
  },
  {
   "cell_type": "code",
   "execution_count": null,
   "metadata": {
    "colab": {
     "base_uri": "https://localhost:8080/"
    },
    "executionInfo": {
     "elapsed": 26,
     "status": "ok",
     "timestamp": 1648614310588,
     "user": {
      "displayName": "ESWAR CHAND VUPPALA",
      "userId": "12573240152193183617"
     },
     "user_tz": -330
    },
    "id": "Amw4ntDAonCC",
    "outputId": "c25788fe-0410-4c97-e3b8-1e3d0c74c82f"
   },
   "outputs": [],
   "source": [
    "single_char_captcha_files"
   ]
  },
  {
   "cell_type": "code",
   "execution_count": null,
   "metadata": {
    "colab": {
     "base_uri": "https://localhost:8080/"
    },
    "executionInfo": {
     "elapsed": 24,
     "status": "ok",
     "timestamp": 1648614310589,
     "user": {
      "displayName": "ESWAR CHAND VUPPALA",
      "userId": "12573240152193183617"
     },
     "user_tz": -330
    },
    "id": "mQz9OzS_X2Xn",
    "outputId": "ecc93ddf-a5b6-43a5-ceb7-c20891e88be6"
   },
   "outputs": [],
   "source": [
    "print(len(single_char_captcha_files))"
   ]
  },
  {
   "cell_type": "markdown",
   "metadata": {
    "id": "rsxaG_mTe45G"
   },
   "source": [
    "These are the files names of the captcha images that contains only one character in each bounding boxes."
   ]
  },
  {
   "cell_type": "markdown",
   "metadata": {
    "id": "k_wrCq5UgClm"
   },
   "source": [
    "- <font size = '4'> Now lets try to create a data frame with the individual character boxes of these 145 captcha image."
   ]
  },
  {
   "cell_type": "code",
   "execution_count": 2,
   "metadata": {
    "colab": {
     "base_uri": "https://localhost:8080/",
     "height": 1000
    },
    "executionInfo": {
     "elapsed": 14887,
     "status": "ok",
     "timestamp": 1648614870106,
     "user": {
      "displayName": "ESWAR CHAND VUPPALA",
      "userId": "12573240152193183617"
     },
     "user_tz": -330
    },
    "id": "bd-JTj9qgOZ5",
    "outputId": "2ce661e5-2d04-4abf-96a9-c2f9f766565e"
   },
   "outputs": [
    {
     "ename": "NameError",
     "evalue": "name 'single_char_captcha_files' is not defined",
     "output_type": "error",
     "traceback": [
      "\u001b[1;31m---------------------------------------------------------------------------\u001b[0m",
      "\u001b[1;31mNameError\u001b[0m                                 Traceback (most recent call last)",
      "\u001b[1;32m~\\AppData\\Local\\Temp/ipykernel_14160/3373344115.py\u001b[0m in \u001b[0;36m<module>\u001b[1;34m\u001b[0m\n\u001b[0;32m      2\u001b[0m \u001b[0mz\u001b[0m \u001b[1;33m=\u001b[0m \u001b[1;33m-\u001b[0m\u001b[1;36m1\u001b[0m\u001b[1;33m\u001b[0m\u001b[1;33m\u001b[0m\u001b[0m\n\u001b[0;32m      3\u001b[0m \u001b[0mremove\u001b[0m \u001b[1;33m=\u001b[0m \u001b[1;33m[\u001b[0m\u001b[1;33m]\u001b[0m\u001b[1;33m\u001b[0m\u001b[1;33m\u001b[0m\u001b[0m\n\u001b[1;32m----> 4\u001b[1;33m \u001b[1;32mfor\u001b[0m \u001b[0mi\u001b[0m \u001b[1;32min\u001b[0m \u001b[0msingle_char_captcha_files\u001b[0m\u001b[1;33m:\u001b[0m\u001b[1;33m\u001b[0m\u001b[1;33m\u001b[0m\u001b[0m\n\u001b[0m\u001b[0;32m      5\u001b[0m   \u001b[0mz\u001b[0m \u001b[1;33m=\u001b[0m \u001b[0mz\u001b[0m\u001b[1;33m+\u001b[0m\u001b[1;36m1\u001b[0m\u001b[1;33m\u001b[0m\u001b[1;33m\u001b[0m\u001b[0m\n\u001b[0;32m      6\u001b[0m   \u001b[0mim\u001b[0m \u001b[1;33m=\u001b[0m \u001b[0mcv2\u001b[0m\u001b[1;33m.\u001b[0m\u001b[0mimread\u001b[0m\u001b[1;33m(\u001b[0m\u001b[1;34m\"/content/drive/MyDrive/Captcha Text Reading/\"\u001b[0m\u001b[1;33m+\u001b[0m\u001b[0mi\u001b[0m\u001b[1;33m)\u001b[0m\u001b[1;33m\u001b[0m\u001b[1;33m\u001b[0m\u001b[0m\n",
      "\u001b[1;31mNameError\u001b[0m: name 'single_char_captcha_files' is not defined"
     ]
    }
   ],
   "source": [
    "lst_char_boxes = []\n",
    "z = -1\n",
    "remove = []\n",
    "for i in single_char_captcha_files:\n",
    "  z = z+1\n",
    "  im = cv2.imread(\"/content/drive/MyDrive/Captcha Text Reading/\"+i)\n",
    "  gray = cv2.cvtColor(im, cv2.COLOR_BGR2GRAY)\n",
    "  blur = cv2.GaussianBlur(gray, (7,7), 0)\n",
    "  thresh = cv2.threshold(gray, 0, 255, cv2.THRESH_BINARY_INV + cv2.THRESH_OTSU)[1]\n",
    "  cnts = cv2.findContours(thresh, cv2.RETR_EXTERNAL,cv2.CHAIN_APPROX_SIMPLE)\n",
    "  cnts = cnts[0] if len(cnts) == 2 else cnts[1]\n",
    "  cnts = sorted(cnts, key = lambda x: cv2.boundingRect(x)[0])\n",
    "  temp = 0\n",
    "  lst_img_wise_char_boxes = []\n",
    "  for c in cnts:\n",
    "    temp = temp+1\n",
    "    x,y,w,h = cv2.boundingRect(c)\n",
    "    cv2.rectangle(gray, (x,y), (x+w,y+h), (0,255,0), 1)\n",
    "    if temp >= 5 and temp <= 10:\n",
    "      letter = gray[y:y+h,x:x+w]\n",
    "      cv2_imshow(letter)\n",
    "      letter = letter.tolist()\n",
    "      lst_img_wise_char_boxes.append(letter)\n",
    "  if len(lst_img_wise_char_boxes) == 6:\n",
    "    for q in lst_img_wise_char_boxes:\n",
    "      lst_char_boxes.append(q)      \n",
    "    cv2_imshow(gray)\n",
    "  else:\n",
    "    remove.append(z)"
   ]
  },
  {
   "cell_type": "code",
   "execution_count": null,
   "metadata": {
    "colab": {
     "base_uri": "https://localhost:8080/"
    },
    "executionInfo": {
     "elapsed": 305,
     "status": "ok",
     "timestamp": 1648614870106,
     "user": {
      "displayName": "ESWAR CHAND VUPPALA",
      "userId": "12573240152193183617"
     },
     "user_tz": -330
    },
    "id": "ly010miR3QAr",
    "outputId": "02169d12-5c7e-4745-d0d4-0cab800c1009"
   },
   "outputs": [],
   "source": [
    "letter"
   ]
  },
  {
   "cell_type": "code",
   "execution_count": null,
   "metadata": {
    "colab": {
     "base_uri": "https://localhost:8080/"
    },
    "executionInfo": {
     "elapsed": 289,
     "status": "ok",
     "timestamp": 1648614870106,
     "user": {
      "displayName": "ESWAR CHAND VUPPALA",
      "userId": "12573240152193183617"
     },
     "user_tz": -330
    },
    "id": "-tXMBJXbvGKP",
    "outputId": "bc4fe1b4-2cac-45eb-fb41-306bca9a9591"
   },
   "outputs": [],
   "source": [
    "lst_char_boxes"
   ]
  },
  {
   "cell_type": "code",
   "execution_count": null,
   "metadata": {
    "executionInfo": {
     "elapsed": 125710,
     "status": "aborted",
     "timestamp": 1648614304322,
     "user": {
      "displayName": "ESWAR CHAND VUPPALA",
      "userId": "12573240152193183617"
     },
     "user_tz": -330
    },
    "id": "uBpIWnx5MSIS"
   },
   "outputs": [],
   "source": [
    "\"\"\"\n",
    "length_all_letters = []\n",
    "for i in lst_char_boxes:\n",
    "  length = max(map(len, i))\n",
    "  length_all_letters.append(length)\n",
    "max_length = max(length_all_letters)\n",
    "for i in lst_char_boxes:\n",
    "  for r in i:\n",
    "    for j in range(max_length-len(r)):\n",
    "      r.append(255)\n",
    "\n",
    "\"\"\""
   ]
  },
  {
   "cell_type": "code",
   "execution_count": null,
   "metadata": {
    "colab": {
     "base_uri": "https://localhost:8080/"
    },
    "executionInfo": {
     "elapsed": 274,
     "status": "ok",
     "timestamp": 1648614870107,
     "user": {
      "displayName": "ESWAR CHAND VUPPALA",
      "userId": "12573240152193183617"
     },
     "user_tz": -330
    },
    "id": "Mm9cewC-xuJ4",
    "outputId": "86e27ebb-54e1-4171-e8e1-4f0f310c5353"
   },
   "outputs": [],
   "source": [
    "remove"
   ]
  },
  {
   "cell_type": "code",
   "execution_count": null,
   "metadata": {
    "colab": {
     "base_uri": "https://localhost:8080/"
    },
    "executionInfo": {
     "elapsed": 6,
     "status": "ok",
     "timestamp": 1648614870107,
     "user": {
      "displayName": "ESWAR CHAND VUPPALA",
      "userId": "12573240152193183617"
     },
     "user_tz": -330
    },
    "id": "JcHf4-e5qWVH",
    "outputId": "3b59f799-a523-4c0d-ad5e-44b021d263c9"
   },
   "outputs": [],
   "source": [
    "type(lst_char_boxes)"
   ]
  },
  {
   "cell_type": "code",
   "execution_count": null,
   "metadata": {
    "executionInfo": {
     "elapsed": 4,
     "status": "ok",
     "timestamp": 1648614870107,
     "user": {
      "displayName": "ESWAR CHAND VUPPALA",
      "userId": "12573240152193183617"
     },
     "user_tz": -330
    },
    "id": "FgtXxb6uwb0S"
   },
   "outputs": [],
   "source": [
    "for i in remove:\n",
    "  single_char_captcha_files.pop(i)"
   ]
  },
  {
   "cell_type": "code",
   "execution_count": null,
   "metadata": {
    "colab": {
     "base_uri": "https://localhost:8080/"
    },
    "executionInfo": {
     "elapsed": 565,
     "status": "ok",
     "timestamp": 1648614880083,
     "user": {
      "displayName": "ESWAR CHAND VUPPALA",
      "userId": "12573240152193183617"
     },
     "user_tz": -330
    },
    "id": "v4M-zNNbyIkF",
    "outputId": "3d87adf6-d849-4cce-db58-670bde6107d8"
   },
   "outputs": [],
   "source": [
    "len(single_char_captcha_files)"
   ]
  },
  {
   "cell_type": "markdown",
   "metadata": {
    "id": "lN044vzt0Dd1"
   },
   "source": [
    "- <font size = '4'> Now, this is a 3d array containing pixels valued lists of 846 letters."
   ]
  },
  {
   "cell_type": "markdown",
   "metadata": {
    "id": "O2Ftrbio0Xud"
   },
   "source": [
    "- <font size = '4'> Lets also create a list of the target variables."
   ]
  },
  {
   "cell_type": "code",
   "execution_count": null,
   "metadata": {
    "colab": {
     "base_uri": "https://localhost:8080/"
    },
    "executionInfo": {
     "elapsed": 1270,
     "status": "ok",
     "timestamp": 1648614887888,
     "user": {
      "displayName": "ESWAR CHAND VUPPALA",
      "userId": "12573240152193183617"
     },
     "user_tz": -330
    },
    "id": "pynEaGbZ7Jbi",
    "outputId": "5c35077b-6d96-4040-c0e4-091b6707b226"
   },
   "outputs": [],
   "source": [
    "import pandas as pd\n",
    "\n",
    "dict_captcha_text = pd.read_csv('/content/drive/MyDrive/captcha_verification/captcha_verification.csv', header=None, index_col=0, squeeze=True).to_dict()\n",
    "print(dict_captcha_text)"
   ]
  },
  {
   "cell_type": "code",
   "execution_count": null,
   "metadata": {
    "colab": {
     "base_uri": "https://localhost:8080/"
    },
    "executionInfo": {
     "elapsed": 6,
     "status": "ok",
     "timestamp": 1648614888796,
     "user": {
      "displayName": "ESWAR CHAND VUPPALA",
      "userId": "12573240152193183617"
     },
     "user_tz": -330
    },
    "id": "FhnQcqQsDcff",
    "outputId": "02323e08-7521-45d1-d494-3e9c4661be7d"
   },
   "outputs": [],
   "source": [
    "dict_captcha_text.pop('FileName')\n",
    "dict_captcha_text"
   ]
  },
  {
   "cell_type": "code",
   "execution_count": null,
   "metadata": {
    "executionInfo": {
     "elapsed": 351,
     "status": "ok",
     "timestamp": 1648614891656,
     "user": {
      "displayName": "ESWAR CHAND VUPPALA",
      "userId": "12573240152193183617"
     },
     "user_tz": -330
    },
    "id": "lyOXneKn-An9"
   },
   "outputs": [],
   "source": [
    "lst_text = []\n",
    "for i in single_char_captcha_files:\n",
    "  lst_img_wise_text = list(dict_captcha_text[i])\n",
    "  lst_text.append(lst_img_wise_text)\n",
    "  "
   ]
  },
  {
   "cell_type": "code",
   "execution_count": null,
   "metadata": {
    "colab": {
     "base_uri": "https://localhost:8080/"
    },
    "executionInfo": {
     "elapsed": 376,
     "status": "ok",
     "timestamp": 1648614910012,
     "user": {
      "displayName": "ESWAR CHAND VUPPALA",
      "userId": "12573240152193183617"
     },
     "user_tz": -330
    },
    "id": "JOEh8-f6D7xc",
    "outputId": "25f5a577-805e-4858-e505-095c8d3a0466"
   },
   "outputs": [],
   "source": [
    "lst_text"
   ]
  },
  {
   "cell_type": "code",
   "execution_count": null,
   "metadata": {
    "colab": {
     "base_uri": "https://localhost:8080/"
    },
    "executionInfo": {
     "elapsed": 629,
     "status": "ok",
     "timestamp": 1648614913004,
     "user": {
      "displayName": "ESWAR CHAND VUPPALA",
      "userId": "12573240152193183617"
     },
     "user_tz": -330
    },
    "id": "wFhkFOulz2LS",
    "outputId": "c612a12a-0776-459c-def6-bab8bb4139db"
   },
   "outputs": [],
   "source": [
    "lst_text = sum(lst_text, [])\n",
    "print(lst_text)"
   ]
  },
  {
   "cell_type": "code",
   "execution_count": null,
   "metadata": {
    "colab": {
     "base_uri": "https://localhost:8080/"
    },
    "executionInfo": {
     "elapsed": 390,
     "status": "ok",
     "timestamp": 1648614930296,
     "user": {
      "displayName": "ESWAR CHAND VUPPALA",
      "userId": "12573240152193183617"
     },
     "user_tz": -330
    },
    "id": "stQvSgjT2Wx0",
    "outputId": "38b1f136-398a-42d4-cbe4-9ef7c2860144"
   },
   "outputs": [],
   "source": [
    "len(lst_text)"
   ]
  },
  {
   "cell_type": "markdown",
   "metadata": {
    "id": "LHXn6CbiGDNE"
   },
   "source": [
    "- <font size = '4'> So, finally the lists required for training are,\n",
    "           1.   lst_char_boxes\n",
    "           2.   lst_text"
   ]
  },
  {
   "cell_type": "markdown",
   "metadata": {
    "id": "lpKaB-mxEDqH"
   },
   "source": [
    "##  DATA PREPARATION:"
   ]
  },
  {
   "cell_type": "code",
   "execution_count": null,
   "metadata": {
    "executionInfo": {
     "elapsed": 595,
     "status": "ok",
     "timestamp": 1648614935747,
     "user": {
      "displayName": "ESWAR CHAND VUPPALA",
      "userId": "12573240152193183617"
     },
     "user_tz": -330
    },
    "id": "ueWSHPYUqC4E"
   },
   "outputs": [],
   "source": [
    "train_images = lst_char_boxes"
   ]
  },
  {
   "cell_type": "code",
   "execution_count": null,
   "metadata": {
    "executionInfo": {
     "elapsed": 2,
     "status": "ok",
     "timestamp": 1648614936111,
     "user": {
      "displayName": "ESWAR CHAND VUPPALA",
      "userId": "12573240152193183617"
     },
     "user_tz": -330
    },
    "id": "fCoiNw72uaYM"
   },
   "outputs": [],
   "source": [
    "train_labels = lst_text"
   ]
  },
  {
   "cell_type": "code",
   "execution_count": null,
   "metadata": {
    "colab": {
     "base_uri": "https://localhost:8080/"
    },
    "executionInfo": {
     "elapsed": 610,
     "status": "ok",
     "timestamp": 1648614938896,
     "user": {
      "displayName": "ESWAR CHAND VUPPALA",
      "userId": "12573240152193183617"
     },
     "user_tz": -330
    },
    "id": "XJLHCs5U69cs",
    "outputId": "5cc375d2-fc96-4611-b5e8-12ce36b8780c"
   },
   "outputs": [],
   "source": [
    "train_labels"
   ]
  },
  {
   "cell_type": "markdown",
   "metadata": {
    "id": "YuihYOm67eDm"
   },
   "source": [
    "- <font size = '4'> The complete 846 elements are been taken in this train dataset.\n",
    "- Lets split the dataset for validation set also."
   ]
  },
  {
   "cell_type": "code",
   "execution_count": null,
   "metadata": {
    "executionInfo": {
     "elapsed": 1817,
     "status": "ok",
     "timestamp": 1648614951025,
     "user": {
      "displayName": "ESWAR CHAND VUPPALA",
      "userId": "12573240152193183617"
     },
     "user_tz": -330
    },
    "id": "en5kUsBwp_cG"
   },
   "outputs": [],
   "source": [
    "from sklearn.model_selection import train_test_split\n",
    "\n",
    "train_images,val_images,train_labels,val_labels = train_test_split(\n",
    "                                               train_images,train_labels,test_size = 1/6,shuffle = True,random_state = 999999)"
   ]
  },
  {
   "cell_type": "markdown",
   "metadata": {
    "id": "d8llfCVH8S4F"
   },
   "source": [
    "- <font size = '4'> Done spliting the data set into training and validation sets\n",
    "- <font size = '4'> But these datasets are of list type we need to convert them into **numpy** arrays for training purpose. "
   ]
  },
  {
   "cell_type": "code",
   "execution_count": null,
   "metadata": {
    "colab": {
     "base_uri": "https://localhost:8080/"
    },
    "executionInfo": {
     "elapsed": 374,
     "status": "ok",
     "timestamp": 1648614953129,
     "user": {
      "displayName": "ESWAR CHAND VUPPALA",
      "userId": "12573240152193183617"
     },
     "user_tz": -330
    },
    "id": "Q0KGFjpZ7cVr",
    "outputId": "4d859ff2-37eb-4e6d-fcf9-5b57a36de927"
   },
   "outputs": [],
   "source": [
    "import numpy as np\n",
    "\n",
    "train_images = np.array([np.array(xi) for xi in train_images])\n",
    "\n",
    "train_labels = np.array([np.array(xl) for xl in train_labels])\n",
    "\n",
    "val_images = np.array([np.array(xi) for xi in val_images])\n",
    "\n",
    "val_labels = np.array([np.array(xl) for xl in val_labels])\n"
   ]
  },
  {
   "cell_type": "code",
   "execution_count": null,
   "metadata": {
    "colab": {
     "base_uri": "https://localhost:8080/"
    },
    "executionInfo": {
     "elapsed": 360,
     "status": "ok",
     "timestamp": 1648614955914,
     "user": {
      "displayName": "ESWAR CHAND VUPPALA",
      "userId": "12573240152193183617"
     },
     "user_tz": -330
    },
    "id": "_hl8fdYj8_uO",
    "outputId": "b0c6256a-e638-413d-8ee2-e2a5ae74331d"
   },
   "outputs": [],
   "source": [
    "type(train_images),type(train_labels),type(val_images),type(val_labels)"
   ]
  },
  {
   "cell_type": "code",
   "execution_count": null,
   "metadata": {
    "colab": {
     "base_uri": "https://localhost:8080/"
    },
    "executionInfo": {
     "elapsed": 4,
     "status": "ok",
     "timestamp": 1648614958013,
     "user": {
      "displayName": "ESWAR CHAND VUPPALA",
      "userId": "12573240152193183617"
     },
     "user_tz": -330
    },
    "id": "jQ4Xz6Bs8zpA",
    "outputId": "fc5ca616-b7c4-4cbe-8265-ce79ad23bd67"
   },
   "outputs": [],
   "source": [
    "train_images.shape"
   ]
  },
  {
   "cell_type": "code",
   "execution_count": null,
   "metadata": {
    "colab": {
     "base_uri": "https://localhost:8080/"
    },
    "executionInfo": {
     "elapsed": 2,
     "status": "ok",
     "timestamp": 1648614958499,
     "user": {
      "displayName": "ESWAR CHAND VUPPALA",
      "userId": "12573240152193183617"
     },
     "user_tz": -330
    },
    "id": "TC-OFV1Q87yj",
    "outputId": "ac2eb457-9050-40dd-a599-ec89e2231c4d"
   },
   "outputs": [],
   "source": [
    "train_labels.shape"
   ]
  },
  {
   "cell_type": "code",
   "execution_count": null,
   "metadata": {
    "colab": {
     "base_uri": "https://localhost:8080/"
    },
    "executionInfo": {
     "elapsed": 2,
     "status": "ok",
     "timestamp": 1648614959483,
     "user": {
      "displayName": "ESWAR CHAND VUPPALA",
      "userId": "12573240152193183617"
     },
     "user_tz": -330
    },
    "id": "zlEECvW4kZ_k",
    "outputId": "9a1530c2-70d0-4c93-9577-1860dd65ad7a"
   },
   "outputs": [],
   "source": [
    "val_images.shape"
   ]
  },
  {
   "cell_type": "code",
   "execution_count": null,
   "metadata": {
    "colab": {
     "base_uri": "https://localhost:8080/"
    },
    "executionInfo": {
     "elapsed": 2,
     "status": "ok",
     "timestamp": 1648614959941,
     "user": {
      "displayName": "ESWAR CHAND VUPPALA",
      "userId": "12573240152193183617"
     },
     "user_tz": -330
    },
    "id": "rqvOb8bykcUE",
    "outputId": "6be9ac8d-a27b-4326-bb2d-e7da8c61237f"
   },
   "outputs": [],
   "source": [
    "val_labels.shape"
   ]
  },
  {
   "cell_type": "markdown",
   "metadata": {
    "id": "E1h7O_Pu9UT2"
   },
   "source": [
    "- <font size = '4'> Now the data set is ready for training."
   ]
  },
  {
   "cell_type": "code",
   "execution_count": null,
   "metadata": {
    "colab": {
     "base_uri": "https://localhost:8080/",
     "height": 268
    },
    "executionInfo": {
     "elapsed": 391,
     "status": "ok",
     "timestamp": 1648614967485,
     "user": {
      "displayName": "ESWAR CHAND VUPPALA",
      "userId": "12573240152193183617"
     },
     "user_tz": -330
    },
    "id": "tCtLUY-g9Ts6",
    "outputId": "dcf83a82-a8dc-4cf8-d739-a90036a1c59c"
   },
   "outputs": [],
   "source": [
    "plt.figure()\n",
    "plt.imshow(train_images[0])\n",
    "plt.colorbar()\n",
    "plt.grid(False)\n",
    "plt.show()"
   ]
  },
  {
   "cell_type": "markdown",
   "metadata": {
    "id": "pDUCbO-W9uMV"
   },
   "source": [
    "- <font size = '4'> The pixel scale is 0-255 as seen in the figure lets convert the scale to 0-1 for better training purpose."
   ]
  },
  {
   "cell_type": "code",
   "execution_count": null,
   "metadata": {
    "executionInfo": {
     "elapsed": 361,
     "status": "ok",
     "timestamp": 1648614995627,
     "user": {
      "displayName": "ESWAR CHAND VUPPALA",
      "userId": "12573240152193183617"
     },
     "user_tz": -330
    },
    "id": "23GssCxiHEBq"
   },
   "outputs": [],
   "source": [
    "train_images = train_images/255"
   ]
  },
  {
   "cell_type": "code",
   "execution_count": null,
   "metadata": {
    "executionInfo": {
     "elapsed": 349,
     "status": "ok",
     "timestamp": 1648615025012,
     "user": {
      "displayName": "ESWAR CHAND VUPPALA",
      "userId": "12573240152193183617"
     },
     "user_tz": -330
    },
    "id": "mDZ-a3OWHLOr"
   },
   "outputs": [],
   "source": [
    "val_images = val_images/255"
   ]
  },
  {
   "cell_type": "code",
   "execution_count": null,
   "metadata": {
    "colab": {
     "base_uri": "https://localhost:8080/",
     "height": 265
    },
    "executionInfo": {
     "elapsed": 966,
     "status": "ok",
     "timestamp": 1648615031537,
     "user": {
      "displayName": "ESWAR CHAND VUPPALA",
      "userId": "12573240152193183617"
     },
     "user_tz": -330
    },
    "id": "iIDvMck5HO0_",
    "outputId": "bf0ea1a8-004c-4f58-8b26-f043135fa65f"
   },
   "outputs": [],
   "source": [
    "plt.figure()\n",
    "plt.imshow(train_images[0])\n",
    "plt.colorbar()\n",
    "plt.grid(False)\n",
    "plt.show()"
   ]
  },
  {
   "cell_type": "code",
   "execution_count": null,
   "metadata": {
    "colab": {
     "base_uri": "https://localhost:8080/",
     "height": 35
    },
    "executionInfo": {
     "elapsed": 339,
     "status": "ok",
     "timestamp": 1648615035128,
     "user": {
      "displayName": "ESWAR CHAND VUPPALA",
      "userId": "12573240152193183617"
     },
     "user_tz": -330
    },
    "id": "WFaLJywy9eww",
    "outputId": "591dccac-d78d-48ec-aec4-c21b1f898890"
   },
   "outputs": [],
   "source": [
    "train_labels[0]"
   ]
  },
  {
   "cell_type": "code",
   "execution_count": 3,
   "metadata": {
    "executionInfo": {
     "elapsed": 2,
     "status": "ok",
     "timestamp": 1648615050264,
     "user": {
      "displayName": "ESWAR CHAND VUPPALA",
      "userId": "12573240152193183617"
     },
     "user_tz": -330
    },
    "id": "AZXWu-Uh9qvn"
   },
   "outputs": [
    {
     "ename": "NameError",
     "evalue": "name 'train_images' is not defined",
     "output_type": "error",
     "traceback": [
      "\u001b[1;31m---------------------------------------------------------------------------\u001b[0m",
      "\u001b[1;31mNameError\u001b[0m                                 Traceback (most recent call last)",
      "\u001b[1;32m~\\AppData\\Local\\Temp/ipykernel_14160/700711548.py\u001b[0m in \u001b[0;36m<module>\u001b[1;34m\u001b[0m\n\u001b[1;32m----> 1\u001b[1;33m \u001b[0mX_train\u001b[0m \u001b[1;33m=\u001b[0m \u001b[0mtrain_images\u001b[0m\u001b[1;33m\u001b[0m\u001b[1;33m\u001b[0m\u001b[0m\n\u001b[0m\u001b[0;32m      2\u001b[0m \u001b[0my_train\u001b[0m \u001b[1;33m=\u001b[0m \u001b[0mtrain_labels\u001b[0m\u001b[1;33m\u001b[0m\u001b[1;33m\u001b[0m\u001b[0m\n\u001b[0;32m      3\u001b[0m \u001b[0mX_val\u001b[0m \u001b[1;33m=\u001b[0m \u001b[0mval_images\u001b[0m\u001b[1;33m\u001b[0m\u001b[1;33m\u001b[0m\u001b[0m\n\u001b[0;32m      4\u001b[0m \u001b[0my_val\u001b[0m \u001b[1;33m=\u001b[0m \u001b[0mval_labels\u001b[0m\u001b[1;33m\u001b[0m\u001b[1;33m\u001b[0m\u001b[0m\n",
      "\u001b[1;31mNameError\u001b[0m: name 'train_images' is not defined"
     ]
    }
   ],
   "source": [
    "X_train = train_images\n",
    "y_train = train_labels\n",
    "X_val = val_images\n",
    "y_val = val_labels"
   ]
  },
  {
   "cell_type": "code",
   "execution_count": null,
   "metadata": {
    "colab": {
     "base_uri": "https://localhost:8080/",
     "output_embedded_package_id": "1cGPy7OTHjXKXRYlb2HRGteyQ_kBHMwfu"
    },
    "executionInfo": {
     "elapsed": 2689,
     "status": "ok",
     "timestamp": 1648615054354,
     "user": {
      "displayName": "ESWAR CHAND VUPPALA",
      "userId": "12573240152193183617"
     },
     "user_tz": -330
    },
    "id": "DccqI43cFIJc",
    "outputId": "0d0b1114-5250-41f2-fc84-e83e4367c4de"
   },
   "outputs": [],
   "source": [
    "X_train"
   ]
  },
  {
   "cell_type": "markdown",
   "metadata": {
    "id": "TgVhTp9x-T55"
   },
   "source": [
    "## SETTING UP LAYERS"
   ]
  },
  {
   "cell_type": "code",
   "execution_count": null,
   "metadata": {
    "executionInfo": {
     "elapsed": 357,
     "status": "ok",
     "timestamp": 1648615469513,
     "user": {
      "displayName": "ESWAR CHAND VUPPALA",
      "userId": "12573240152193183617"
     },
     "user_tz": -330
    },
    "id": "W7Rsv9BQ-boa"
   },
   "outputs": [],
   "source": [
    "import tensorflow as tf\n",
    "model = tf.keras.Sequential([\n",
    "   tf.keras.layers.Flatten(input_shape = (15,15)),\n",
    "   tf.keras.layers.Dense(128, activation = 'relu'),\n",
    "   tf.keras.layers.Dense(62) \n",
    "])"
   ]
  },
  {
   "cell_type": "markdown",
   "metadata": {
    "id": "qv6GGTpR1b1i"
   },
   "source": [
    "- <font size = '4'> First layer in this model, **Flatten** tranforms the 2-d array into a single dimension array contains 28*28 = 784 units.\n",
    "- <font size = '4'> Next we created another layer which is **Dense layer** creating 128 nodes where each node is linked with all the 784 units.\n",
    "-  <font size = '4'> Now lets create the output layer, **Dense layer** of 10 nodes as our **output feature** contains 10 classes. <br>  \n",
    "    -   Here also each node is connected with the above layer's 784 nodes and here each node contains **score** that indicates the current image belongs to one of the 10 classes."
   ]
  },
  {
   "cell_type": "code",
   "execution_count": null,
   "metadata": {
    "executionInfo": {
     "elapsed": 370,
     "status": "ok",
     "timestamp": 1648615472221,
     "user": {
      "displayName": "ESWAR CHAND VUPPALA",
      "userId": "12573240152193183617"
     },
     "user_tz": -330
    },
    "id": "3E4Ll7AF-jng"
   },
   "outputs": [],
   "source": [
    "model.compile(optimizer = 'adam',\n",
    "             loss = tf.keras.losses.SparseCategoricalCrossentropy(from_logits = True),\n",
    "              metrics = ['accuracy'])"
   ]
  },
  {
   "cell_type": "markdown",
   "metadata": {
    "id": "5uHCIyZo-mPy"
   },
   "source": [
    "##TRAINGING"
   ]
  },
  {
   "cell_type": "markdown",
   "metadata": {
    "id": "j70wJs6kGV69"
   },
   "source": [
    "-<font size = '4'> The list of a character image should be in a 2 dimension and with equal dimensions for each element in the array.<br>\n",
    "- <font size = '4'>But here the dimension for each character is different size.<br>\n",
    "<font size = '7'> **WHY**"
   ]
  },
  {
   "cell_type": "markdown",
   "metadata": {
    "id": "KvclvDysgyhK"
   },
   "source": [
    "- <font size = '4'> We can see the dimensions of each image are **different** with each other. <br>\n",
    "- So, the flatteing of the dataset is not happening."
   ]
  },
  {
   "cell_type": "code",
   "execution_count": null,
   "metadata": {
    "colab": {
     "base_uri": "https://localhost:8080/"
    },
    "executionInfo": {
     "elapsed": 396,
     "status": "ok",
     "timestamp": 1648615082237,
     "user": {
      "displayName": "ESWAR CHAND VUPPALA",
      "userId": "12573240152193183617"
     },
     "user_tz": -330
    },
    "id": "bnbvdCPyWxYA",
    "outputId": "a1a45187-c796-42d5-f92e-e7dbcaea794e"
   },
   "outputs": [],
   "source": [
    "for i in range(len(X_train)):\n",
    "  print(X_train[i].shape)"
   ]
  },
  {
   "cell_type": "code",
   "execution_count": null,
   "metadata": {
    "executionInfo": {
     "elapsed": 4,
     "status": "ok",
     "timestamp": 1648615084541,
     "user": {
      "displayName": "ESWAR CHAND VUPPALA",
      "userId": "12573240152193183617"
     },
     "user_tz": -330
    },
    "id": "M4eYPmDAZo6b"
   },
   "outputs": [],
   "source": [
    "for i in range(len(X_train)):\n",
    "  dim = (15, 15)\n",
    "  X_train[i] = cv2.resize(np.float32(X_train[i]), dim)"
   ]
  },
  {
   "cell_type": "code",
   "execution_count": null,
   "metadata": {
    "executionInfo": {
     "elapsed": 4,
     "status": "ok",
     "timestamp": 1648615086159,
     "user": {
      "displayName": "ESWAR CHAND VUPPALA",
      "userId": "12573240152193183617"
     },
     "user_tz": -330
    },
    "id": "GMcOO1nTi6uO"
   },
   "outputs": [],
   "source": [
    "for i in range(len(X_val)):\n",
    "  dim = (15, 15)\n",
    "  X_val[i] = cv2.resize(np.float32(X_val[i]), dim)"
   ]
  },
  {
   "cell_type": "code",
   "execution_count": null,
   "metadata": {
    "colab": {
     "base_uri": "https://localhost:8080/"
    },
    "executionInfo": {
     "elapsed": 364,
     "status": "ok",
     "timestamp": 1648615093086,
     "user": {
      "displayName": "ESWAR CHAND VUPPALA",
      "userId": "12573240152193183617"
     },
     "user_tz": -330
    },
    "id": "6OTJQdL6fdq1",
    "outputId": "7162ebc6-7fd7-4f88-df32-8ab31681d977"
   },
   "outputs": [],
   "source": [
    "for i in range(len(X_train)):\n",
    "  print(X_train[i].shape)"
   ]
  },
  {
   "cell_type": "code",
   "execution_count": null,
   "metadata": {
    "executionInfo": {
     "elapsed": 382,
     "status": "ok",
     "timestamp": 1648615098858,
     "user": {
      "displayName": "ESWAR CHAND VUPPALA",
      "userId": "12573240152193183617"
     },
     "user_tz": -330
    },
    "id": "xoMmWZIKW1Wz"
   },
   "outputs": [],
   "source": [
    "for i in range(len(X_train)):\n",
    "  X_train[i] = X_train[i].tolist()"
   ]
  },
  {
   "cell_type": "code",
   "execution_count": null,
   "metadata": {
    "executionInfo": {
     "elapsed": 3,
     "status": "ok",
     "timestamp": 1648615102828,
     "user": {
      "displayName": "ESWAR CHAND VUPPALA",
      "userId": "12573240152193183617"
     },
     "user_tz": -330
    },
    "id": "GIm0JO3cXLo4"
   },
   "outputs": [],
   "source": [
    "X_train = X_train.tolist()"
   ]
  },
  {
   "cell_type": "code",
   "execution_count": null,
   "metadata": {
    "executionInfo": {
     "elapsed": 393,
     "status": "ok",
     "timestamp": 1648615101268,
     "user": {
      "displayName": "ESWAR CHAND VUPPALA",
      "userId": "12573240152193183617"
     },
     "user_tz": -330
    },
    "id": "zRaMAIf1jGcn"
   },
   "outputs": [],
   "source": [
    "for i in range(len(X_val)):\n",
    "  X_val[i] = X_val[i].tolist()"
   ]
  },
  {
   "cell_type": "code",
   "execution_count": null,
   "metadata": {
    "executionInfo": {
     "elapsed": 2,
     "status": "ok",
     "timestamp": 1648615104288,
     "user": {
      "displayName": "ESWAR CHAND VUPPALA",
      "userId": "12573240152193183617"
     },
     "user_tz": -330
    },
    "id": "oLvm0arCklg2"
   },
   "outputs": [],
   "source": [
    "X_val = X_val.tolist()"
   ]
  },
  {
   "cell_type": "code",
   "execution_count": null,
   "metadata": {
    "executionInfo": {
     "elapsed": 617,
     "status": "ok",
     "timestamp": 1648615105468,
     "user": {
      "displayName": "ESWAR CHAND VUPPALA",
      "userId": "12573240152193183617"
     },
     "user_tz": -330
    },
    "id": "P4yYiPVQW_6R"
   },
   "outputs": [],
   "source": [
    "for i in range(len(y_train)):\n",
    "  y_train[i] = y_train[i].tolist()"
   ]
  },
  {
   "cell_type": "code",
   "execution_count": null,
   "metadata": {
    "executionInfo": {
     "elapsed": 388,
     "status": "ok",
     "timestamp": 1648615135175,
     "user": {
      "displayName": "ESWAR CHAND VUPPALA",
      "userId": "12573240152193183617"
     },
     "user_tz": -330
    },
    "id": "yh42B3UqXStD"
   },
   "outputs": [],
   "source": [
    "y_train = y_train.tolist()"
   ]
  },
  {
   "cell_type": "code",
   "execution_count": null,
   "metadata": {
    "executionInfo": {
     "elapsed": 348,
     "status": "ok",
     "timestamp": 1648615107479,
     "user": {
      "displayName": "ESWAR CHAND VUPPALA",
      "userId": "12573240152193183617"
     },
     "user_tz": -330
    },
    "id": "YIm8DnGjkpKb"
   },
   "outputs": [],
   "source": [
    "for i in range(len(y_val)):\n",
    "  y_val[i] = y_val[i].tolist()"
   ]
  },
  {
   "cell_type": "code",
   "execution_count": null,
   "metadata": {
    "executionInfo": {
     "elapsed": 2,
     "status": "ok",
     "timestamp": 1648615144455,
     "user": {
      "displayName": "ESWAR CHAND VUPPALA",
      "userId": "12573240152193183617"
     },
     "user_tz": -330
    },
    "id": "RyrKwRtFkqid"
   },
   "outputs": [],
   "source": [
    "y_val = y_val.tolist()"
   ]
  },
  {
   "cell_type": "code",
   "execution_count": 4,
   "metadata": {
    "colab": {
     "base_uri": "https://localhost:8080/"
    },
    "executionInfo": {
     "elapsed": 439,
     "status": "ok",
     "timestamp": 1648615147326,
     "user": {
      "displayName": "ESWAR CHAND VUPPALA",
      "userId": "12573240152193183617"
     },
     "user_tz": -330
    },
    "id": "CM7biGPRXYTj",
    "outputId": "c298343b-94d4-4e6a-f65b-ae1d0fbbc0f9"
   },
   "outputs": [
    {
     "ename": "NameError",
     "evalue": "name 'y_train' is not defined",
     "output_type": "error",
     "traceback": [
      "\u001b[1;31m---------------------------------------------------------------------------\u001b[0m",
      "\u001b[1;31mNameError\u001b[0m                                 Traceback (most recent call last)",
      "\u001b[1;32m~\\AppData\\Local\\Temp/ipykernel_14160/2642340758.py\u001b[0m in \u001b[0;36m<module>\u001b[1;34m\u001b[0m\n\u001b[1;32m----> 1\u001b[1;33m \u001b[0my_train\u001b[0m\u001b[1;33m\u001b[0m\u001b[1;33m\u001b[0m\u001b[0m\n\u001b[0m",
      "\u001b[1;31mNameError\u001b[0m: name 'y_train' is not defined"
     ]
    }
   ],
   "source": [
    "y_train"
   ]
  },
  {
   "cell_type": "code",
   "execution_count": null,
   "metadata": {
    "colab": {
     "base_uri": "https://localhost:8080/"
    },
    "executionInfo": {
     "elapsed": 357,
     "status": "ok",
     "timestamp": 1648615148189,
     "user": {
      "displayName": "ESWAR CHAND VUPPALA",
      "userId": "12573240152193183617"
     },
     "user_tz": -330
    },
    "id": "115F-fRIk5ZZ",
    "outputId": "42dc5c9f-eca2-4a7e-ce09-13b921c429b4"
   },
   "outputs": [],
   "source": [
    "y_val\n"
   ]
  },
  {
   "cell_type": "markdown",
   "metadata": {
    "id": "-7S86KMdhIcJ"
   },
   "source": [
    "- <font size = '4'> Done standardizing of all the images in the dataset.\n",
    "<br>\n",
    "- Now, lets try training"
   ]
  },
  {
   "cell_type": "code",
   "execution_count": null,
   "metadata": {
    "executionInfo": {
     "elapsed": 365,
     "status": "ok",
     "timestamp": 1648615154207,
     "user": {
      "displayName": "ESWAR CHAND VUPPALA",
      "userId": "12573240152193183617"
     },
     "user_tz": -330
    },
    "id": "ggWuwMSIXoSK"
   },
   "outputs": [],
   "source": [
    "X_train =np.array([np.array(xi) for xi in X_train])\n"
   ]
  },
  {
   "cell_type": "code",
   "execution_count": null,
   "metadata": {
    "executionInfo": {
     "elapsed": 2,
     "status": "ok",
     "timestamp": 1648615155540,
     "user": {
      "displayName": "ESWAR CHAND VUPPALA",
      "userId": "12573240152193183617"
     },
     "user_tz": -330
    },
    "id": "jliEveNsjftL"
   },
   "outputs": [],
   "source": [
    "X_val =np.array([np.array(xv) for xv in X_val])\n"
   ]
  },
  {
   "cell_type": "code",
   "execution_count": null,
   "metadata": {
    "colab": {
     "base_uri": "https://localhost:8080/"
    },
    "executionInfo": {
     "elapsed": 3,
     "status": "ok",
     "timestamp": 1648615157738,
     "user": {
      "displayName": "ESWAR CHAND VUPPALA",
      "userId": "12573240152193183617"
     },
     "user_tz": -330
    },
    "id": "K0zOA7V2X3Os",
    "outputId": "474c20bd-0288-4c6b-f0c4-4a48c3d7ea3d"
   },
   "outputs": [],
   "source": [
    "X_train"
   ]
  },
  {
   "cell_type": "code",
   "execution_count": null,
   "metadata": {
    "executionInfo": {
     "elapsed": 394,
     "status": "ok",
     "timestamp": 1648615163278,
     "user": {
      "displayName": "ESWAR CHAND VUPPALA",
      "userId": "12573240152193183617"
     },
     "user_tz": -330
    },
    "id": "z_70ybybX_89"
   },
   "outputs": [],
   "source": [
    "y_train =np.array([np.array(yi) for yi in y_train])\n"
   ]
  },
  {
   "cell_type": "code",
   "execution_count": null,
   "metadata": {
    "executionInfo": {
     "elapsed": 6,
     "status": "ok",
     "timestamp": 1648615164438,
     "user": {
      "displayName": "ESWAR CHAND VUPPALA",
      "userId": "12573240152193183617"
     },
     "user_tz": -330
    },
    "id": "TEkpcsdnk_rm"
   },
   "outputs": [],
   "source": [
    "y_val =np.array([np.array(yi) for yi in y_val])\n"
   ]
  },
  {
   "cell_type": "code",
   "execution_count": null,
   "metadata": {
    "colab": {
     "base_uri": "https://localhost:8080/"
    },
    "executionInfo": {
     "elapsed": 348,
     "status": "ok",
     "timestamp": 1648615170045,
     "user": {
      "displayName": "ESWAR CHAND VUPPALA",
      "userId": "12573240152193183617"
     },
     "user_tz": -330
    },
    "id": "-tCGVKhJYFmN",
    "outputId": "8709fef1-e906-4a6c-c765-5d78494d1027"
   },
   "outputs": [],
   "source": [
    "y_train"
   ]
  },
  {
   "cell_type": "code",
   "execution_count": null,
   "metadata": {
    "colab": {
     "base_uri": "https://localhost:8080/"
    },
    "executionInfo": {
     "elapsed": 370,
     "status": "ok",
     "timestamp": 1648615247157,
     "user": {
      "displayName": "ESWAR CHAND VUPPALA",
      "userId": "12573240152193183617"
     },
     "user_tz": -330
    },
    "id": "POHq95UWuAqO",
    "outputId": "8fa90939-d13e-402f-b9e3-12d8abc647ea"
   },
   "outputs": [],
   "source": [
    "X_train.shape"
   ]
  },
  {
   "cell_type": "code",
   "execution_count": null,
   "metadata": {
    "colab": {
     "base_uri": "https://localhost:8080/",
     "height": 265
    },
    "executionInfo": {
     "elapsed": 733,
     "status": "ok",
     "timestamp": 1648615270028,
     "user": {
      "displayName": "ESWAR CHAND VUPPALA",
      "userId": "12573240152193183617"
     },
     "user_tz": -330
    },
    "id": "1LWz9xSpfq1Z",
    "outputId": "b54b39ad-5fe9-49c2-c2aa-0af583bc40d5"
   },
   "outputs": [],
   "source": [
    "plt.figure()\n",
    "plt.imshow(X_train[1])\n",
    "plt.colorbar()\n",
    "plt.grid(False)\n",
    "plt.show()"
   ]
  },
  {
   "cell_type": "code",
   "execution_count": null,
   "metadata": {
    "colab": {
     "base_uri": "https://localhost:8080/",
     "height": 35
    },
    "executionInfo": {
     "elapsed": 7,
     "status": "ok",
     "timestamp": 1648615289015,
     "user": {
      "displayName": "ESWAR CHAND VUPPALA",
      "userId": "12573240152193183617"
     },
     "user_tz": -330
    },
    "id": "lMeQC2gMINLs",
    "outputId": "09828f51-fdc8-4d7b-be0f-c03a43db96af"
   },
   "outputs": [],
   "source": [
    "y_train[1]"
   ]
  },
  {
   "cell_type": "code",
   "execution_count": null,
   "metadata": {
    "colab": {
     "base_uri": "https://localhost:8080/",
     "height": 1000
    },
    "executionInfo": {
     "elapsed": 371,
     "status": "error",
     "timestamp": 1648615546739,
     "user": {
      "displayName": "ESWAR CHAND VUPPALA",
      "userId": "12573240152193183617"
     },
     "user_tz": -330
    },
    "id": "BYIcSiFogCXc",
    "outputId": "f40bed51-8eea-4eea-ead0-1219bc99e4fd"
   },
   "outputs": [],
   "source": [
    "model.fit(X_train, y_train, epochs = 10)"
   ]
  }
 ],
 "metadata": {
  "colab": {
   "authorship_tag": "ABX9TyMJ66ZuVFr2IvmHoxNE8H5o",
   "collapsed_sections": [],
   "name": "Captcha Image Text Reading (Starting to Training).ipynb",
   "provenance": []
  },
  "kernelspec": {
   "display_name": "Python 3 (ipykernel)",
   "language": "python",
   "name": "python3"
  },
  "language_info": {
   "codemirror_mode": {
    "name": "ipython",
    "version": 3
   },
   "file_extension": ".py",
   "mimetype": "text/x-python",
   "name": "python",
   "nbconvert_exporter": "python",
   "pygments_lexer": "ipython3",
   "version": "3.9.0"
  }
 },
 "nbformat": 4,
 "nbformat_minor": 1
}
