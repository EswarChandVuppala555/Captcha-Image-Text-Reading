{
 "cells": [
  {
   "cell_type": "markdown",
   "id": "aa08ef4a",
   "metadata": {},
   "source": [
    "# Catcha Text Reading:"
   ]
  },
  {
   "cell_type": "markdown",
   "id": "58adb757",
   "metadata": {},
   "source": [
    "- <font size = '4'> There is a dataset of many captcha images where we need to **read** each captha image and **predict** the text in each one. \n",
    "    - The **actual text** is also given which is the **output** for the data set.\n",
    "    - This training data set should be used to train the model."
   ]
  },
  {
   "cell_type": "markdown",
   "id": "6e4e405b",
   "metadata": {},
   "source": [
    "- <font size = '4'> But before that we need to **extract the text** from each captcha image using **boundary boxes** segmentation"
   ]
  },
  {
   "cell_type": "code",
   "execution_count": 1,
   "id": "12a58f07",
   "metadata": {},
   "outputs": [
    {
     "data": {
      "image/png": "[encoded data removed]",
      "text/plain": [
       "<PIL.PngImagePlugin.PngImageFile image mode=RGBA size=160x50 at 0x2EC0DD28910>"
      ]
     },
     "execution_count": 1,
     "metadata": {},
     "output_type": "execute_result"
    }
   ],
   "source": [
    "from PIL import Image\n",
    "\n",
    "im = Image.open(\"captcha_0.png\")\n",
    "im"
   ]
  },
  {
   "cell_type": "markdown",
   "id": "8dadf567",
   "metadata": {},
   "source": [
    "- <font size = '4'> This is the sample image of one captcha code in our data set."
   ]
  },
  {
   "cell_type": "code",
   "execution_count": 2,
   "id": "af5fc082",
   "metadata": {},
   "outputs": [
    {
     "name": "stdout",
     "output_type": "stream",
     "text": [
      "IcausV\n",
      "\n"
     ]
    }
   ],
   "source": [
    "import pytesseract\n",
    "\n",
    "from pytesseract import Output\n",
    "import cv2\n",
    "pytesseract.pytesseract.tesseract_cmd = r\"C:\\Program Files\\Tesseract-OCR\\tesseract.exe\"\n",
    "\n",
    "img = cv2.imread(\"captcha_0.png\")\n",
    "txt = pytesseract.image_to_string(img)\n",
    "print(txt)"
   ]
  },
  {
   "cell_type": "code",
   "execution_count": 3,
   "id": "78f67d3c",
   "metadata": {},
   "outputs": [],
   "source": [
    "img = cv2.cvtColor(img,cv2.COLOR_BGR2RGB)"
   ]
  },
  {
   "cell_type": "code",
   "execution_count": 4,
   "id": "7037acd3",
   "metadata": {},
   "outputs": [
    {
     "name": "stdout",
     "output_type": "stream",
     "text": [
      "[3, 1, 4, 7, 19, 8, 6, 9, 15, 13, 7, 9, 6, 6, 9, 7, 8, 5, 4, 6, 5, 5, 4, 4, 5, 5, 3, 1, 5, 8, 8, 7, 3, 3, 3, 8, 7, 9, 7, 8, 8, 10, 6, 11, 14, 13, 16, 14, 6, 11, 6, 7, 4, 7, 4, 3, 6, 13, 12, 6, 14, 10, 7, 12, 7, 4, 9, 5, 11, 6, 7, 6, 6, 2, 4, 2, 3, 7, 4, 4, 1, 5, 2, 4, 5, 3, 2, 3, 1, 4, 4, 1, 1, 2, 3, 2, 2, 1, 2, 0, 3, 2, 1, 3, 0, 3, 4, 2, 2, 3, 2, 3, 5, 2, 3, 2, 1, 1, 1, 1, 1, 4, 2, 4, 3, 1, 2, 2, 1, 2, 1, 1, 3, 3, 0, 1, 2, 3, 1, 4, 1, 7, 1, 1, 1, 0, 1, 1, 0, 4, 1, 4, 3, 243, 0, 1, 2, 0, 3, 0, 2, 1, 0, 5, 3, 1, 2, 1, 4, 2, 2, 0, 4, 5, 4, 4, 3, 3, 6, 149, 5, 3, 2, 0, 2, 3, 6, 4, 4, 1, 4, 2, 1, 0, 4, 1, 1, 7, 5, 5, 8, 5, 7, 5, 2, 1, 4, 1, 1, 3, 6, 4, 6, 5, 6, 5, 10, 4, 4, 7, 9, 5, 4, 5, 6, 5, 5, 8, 7, 155, 7, 8, 8, 10, 13, 14, 13, 16, 13, 21, 20, 23, 20, 39, 35, 41, 54, 66, 73, 86, 88, 122, 174, 110, 393, 4995, 0, 0, 0, 0, 0, 1, 2, 2, 2, 1, 11, 9, 8, 5, 11, 5, 3, 6, 5, 4, 1, 2, 2, 2, 5, 0, 4, 4, 4, 6, 10, 9, 10, 7, 6, 6, 4, 5, 9, 5, 7, 10, 10, 14, 11, 7, 12, 5, 7, 12, 2, 10, 7, 9, 13, 9, 7, 5, 9, 6, 9, 9, 10, 15, 12, 13, 15, 12, 17, 9, 8, 14, 3, 3, 6, 11, 4, 4, 8, 3, 5, 11, 4, 5, 5, 2, 4, 3, 5, 3, 3, 5, 4, 0, 3, 5, 3, 2, 2, 2, 2, 1, 0, 1, 2, 3, 1, 1, 3, 2, 1, 2, 5, 1, 1, 1, 2, 2, 0, 1, 1, 0, 3, 0, 0, 2, 1, 1, 1, 3, 3, 5, 2, 2, 1, 1, 2, 4, 3, 4, 1, 1, 1, 2, 1, 2, 3, 3, 4, 2, 4, 2, 0, 243, 3, 4, 6, 4, 1, 2, 2, 2, 1, 4, 2, 0, 3, 2, 4, 1, 1, 2, 2, 2, 2, 0, 2, 0, 4, 149, 1, 2, 1, 0, 4, 1, 5, 6, 5, 2, 3, 7, 5, 3, 4, 0, 3, 10, 7, 2, 4, 5, 9, 2, 6, 4, 6, 2, 2, 1, 2, 1, 0, 1, 1, 1, 0, 3, 0, 5, 3, 3, 2, 6, 10, 7, 6, 13, 4, 158, 10, 7, 8, 11, 10, 10, 15, 15, 12, 8, 16, 21, 12, 22, 27, 37, 37, 34, 45, 66, 84, 125, 113, 156, 299, 5308, 0, 0, 0, 0, 0, 0, 0, 0, 0, 0, 0, 0, 0, 0, 1, 4, 4, 1, 1, 2, 7, 6, 10, 11, 16, 23, 13, 12, 11, 15, 13, 6, 7, 5, 6, 7, 6, 4, 7, 3, 5, 8, 15, 11, 9, 14, 9, 10, 6, 8, 11, 5, 9, 5, 4, 7, 4, 6, 4, 10, 3, 10, 9, 7, 9, 7, 11, 9, 13, 11, 7, 8, 14, 11, 7, 7, 9, 3, 7, 2, 7, 7, 6, 2, 5, 2, 0, 3, 1, 4, 5, 2, 3, 8, 4, 3, 4, 3, 0, 1, 2, 2, 1, 2, 2, 1, 7, 5, 2, 1, 4, 1, 2, 0, 1, 3, 1, 1, 1, 2, 4, 3, 3, 1, 2, 0, 3, 5, 1, 0, 1, 4, 2, 3, 0, 2, 2, 1, 2, 2, 0, 2, 4, 4, 0, 2, 1, 1, 1, 7, 2, 1, 5, 242, 5, 2, 3, 3, 3, 1, 3, 3, 2, 3, 2, 3, 3, 0, 5, 1, 1, 0, 4, 3, 0, 2, 3, 2, 2, 149, 4, 2, 1, 1, 7, 4, 6, 4, 3, 3, 7, 2, 6, 2, 4, 2, 2, 7, 6, 1, 2, 7, 6, 14, 2, 4, 1, 5, 2, 1, 2, 4, 2, 2, 3, 3, 5, 3, 3, 4, 3, 7, 4, 4, 6, 7, 4, 7, 11, 156, 5, 9, 6, 8, 14, 9, 12, 19, 16, 15, 14, 29, 30, 31, 32, 45, 37, 55, 62, 69, 119, 182, 152, 255, 139, 5121, 0, 0, 0, 0, 0, 0, 0, 0, 0, 0, 0, 0, 0, 0, 0, 0, 0, 0, 0, 0, 0, 0, 0, 0, 0, 0, 0, 0, 0, 0, 0, 0, 0, 0, 0, 0, 0, 0, 0, 0, 0, 0, 0, 0, 0, 0, 0, 0, 0, 0, 0, 0, 0, 0, 0, 0, 0, 0, 0, 0, 0, 0, 0, 0, 0, 0, 0, 0, 0, 0, 0, 0, 0, 0, 0, 0, 0, 0, 0, 0, 0, 0, 0, 0, 0, 0, 0, 0, 0, 0, 0, 0, 0, 0, 0, 0, 0, 0, 0, 0, 0, 0, 0, 0, 0, 0, 0, 0, 0, 0, 0, 0, 0, 0, 0, 0, 0, 0, 0, 0, 0, 0, 0, 0, 0, 0, 0, 0, 0, 0, 0, 0, 0, 0, 0, 0, 0, 0, 0, 0, 0, 0, 0, 0, 0, 0, 0, 0, 0, 0, 0, 0, 0, 0, 0, 0, 0, 0, 0, 0, 0, 0, 0, 0, 0, 0, 0, 0, 0, 0, 0, 0, 0, 0, 0, 0, 0, 0, 0, 0, 0, 0, 0, 0, 0, 0, 0, 0, 0, 0, 0, 0, 0, 0, 0, 0, 0, 0, 0, 0, 0, 0, 0, 0, 0, 0, 0, 0, 0, 0, 0, 0, 0, 0, 0, 0, 0, 0, 0, 0, 0, 0, 0, 0, 0, 0, 0, 0, 0, 0, 0, 0, 0, 0, 0, 0, 0, 0, 0, 0, 0, 0, 0, 0, 0, 0, 0, 0, 0, 0, 0, 0, 0, 0, 0, 8000]\n"
     ]
    }
   ],
   "source": [
    "print(im.histogram())\n",
    "\n"
   ]
  },
  {
   "cell_type": "markdown",
   "id": "27041f9e",
   "metadata": {},
   "source": [
    "- <font size = '4'> From this we got the boundary box for the whole text of the image.\n",
    "    - Next we need to split into each character and apply the **boundary box** again and extract the text."
   ]
  },
  {
   "cell_type": "code",
   "execution_count": 5,
   "id": "3ff0dd3e",
   "metadata": {},
   "outputs": [
    {
     "data": {
      "text/plain": [
       "'I 41 22 53 37 0\\nc 56 17 70 33 0\\na 71 10 89 26 0\\nu 89 17 102 29 0\\ns 106 15 118 30 0\\nV 121 20 138 36 0\\n'"
      ]
     },
     "execution_count": 5,
     "metadata": {},
     "output_type": "execute_result"
    }
   ],
   "source": [
    "import matplotlib.pyplot as plt\n",
    "\n",
    "from PIL import Image\n",
    "\n",
    "boxes = pytesseract.image_to_boxes(img)\n",
    "boxes"
   ]
  },
  {
   "cell_type": "markdown",
   "id": "e16feb7f",
   "metadata": {},
   "source": [
    "- <font size = '4'> This is the bounding box information which contains **X point**, **Y point**, **widht** and **height** of the bounding box."
   ]
  },
  {
   "cell_type": "markdown",
   "id": "6d402e5d",
   "metadata": {},
   "source": [
    "- <font size = '4'> Now, lets do the how to place the box in our image for each character."
   ]
  },
  {
   "cell_type": "code",
   "execution_count": 6,
   "id": "c8b97227",
   "metadata": {},
   "outputs": [],
   "source": [
    "hImg,wImg,_ = img.shape"
   ]
  },
  {
   "cell_type": "markdown",
   "id": "b8ddc956",
   "metadata": {},
   "source": [
    "- <font size = '4'> This is the **height** and **width** of tha captcha image."
   ]
  },
  {
   "cell_type": "code",
   "execution_count": 7,
   "id": "056c4976",
   "metadata": {},
   "outputs": [
    {
     "data": {
      "text/plain": [
       "-1"
      ]
     },
     "execution_count": 7,
     "metadata": {},
     "output_type": "execute_result"
    }
   ],
   "source": [
    "for b in boxes.splitlines():\n",
    "    b = b.split(' ')\n",
    "    x,y,w,h = int(b[1]),int(b[2]),int(b[3]),int(b[4])\n",
    "    cv2.rectangle(img,(x,hImg-y),(w,hImg-h),(0,0,255),2)\n",
    "cv2.imshow('img',img)\n",
    "cv2.waitKey(0)\n",
    "    "
   ]
  },
  {
   "cell_type": "code",
   "execution_count": 8,
   "id": "92099a9c",
   "metadata": {},
   "outputs": [
    {
     "data": {
      "text/plain": [
       "-1"
      ]
     },
     "execution_count": 8,
     "metadata": {},
     "output_type": "execute_result"
    }
   ],
   "source": [
    "d = pytesseract.image_to_data(img, output_type=Output.DICT)\n",
    "n_boxes = len(d['level'])\n",
    "for i in range(n_boxes):\n",
    "    (x, y, w, h) = (d['left'][i], d['top'][i], d['width'][i], d['height'][i])\n",
    "    cv2.rectangle(img, (x, y), (x + w, y + h), (0, 255, 0), 2)\n",
    "\n",
    "cv2.imshow('img', img)\n",
    "cv2.waitKey(0)\n"
   ]
  }
 ],
 "metadata": {
  "kernelspec": {
   "display_name": "Python 3 (ipykernel)",
   "language": "python",
   "name": "python3"
  },
  "language_info": {
   "codemirror_mode": {
    "name": "ipython",
    "version": 3
   },
   "file_extension": ".py",
   "mimetype": "text/x-python",
   "name": "python",
   "nbconvert_exporter": "python",
   "pygments_lexer": "ipython3",
   "version": "3.9.0"
  }
 },
 "nbformat": 4,
 "nbformat_minor": 5
}
